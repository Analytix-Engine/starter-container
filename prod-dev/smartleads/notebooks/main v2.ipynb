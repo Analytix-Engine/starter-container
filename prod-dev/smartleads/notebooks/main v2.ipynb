{
   "cells": [
      {
         "cell_type": "markdown",
         "metadata": {},
         "source": [
            "### Notebook options"
         ]
      },
      {
         "cell_type": "code",
         "execution_count": 1,
         "metadata": {},
         "outputs": [],
         "source": [
            "%load_ext autoreload\n",
            "%autoreload 2"
         ]
      },
      {
         "cell_type": "markdown",
         "metadata": {},
         "source": [
            "### Imports"
         ]
      },
      {
         "cell_type": "code",
         "execution_count": 2,
         "metadata": {},
         "outputs": [],
         "source": [
            "# importing standard libraries\n",
            "import os\n",
            "import json\n",
            "import pandas as pd\n",
            "import uuid"
         ]
      },
      {
         "cell_type": "code",
         "execution_count": 3,
         "metadata": {},
         "outputs": [],
         "source": [
            "import duckdb"
         ]
      },
      {
         "cell_type": "code",
         "execution_count": 12,
         "metadata": {},
         "outputs": [],
         "source": [
            "# Hyper Parameters"
         ]
      },
      {
         "cell_type": "code",
         "execution_count": 13,
         "metadata": {},
         "outputs": [],
         "source": [
            "SCORING_CHUNK_MOD = 100\n",
            "MIN_SUPPORT = 0.001\n",
            "MIN_FEATURES_IN_RULE = 3\n",
            "MAX_FEATURES_IN_RULE = 3\n",
            "QUERIES_PER_CHUNK = 100\n",
            "MIN_CONFIDENCE = 0.1\n",
            "MIN_OBS = 5\n",
            "MIN_LIFT = 1.1\n",
            "MAX_RULES_PER_PRODUCT = 5000\n",
            "QUANTILES_FOR_PLOTS = 10\n",
            "MAX_OPTIONS_PER_CUSTOMER = 3"
         ]
      },
      {
         "cell_type": "code",
         "execution_count": 14,
         "metadata": {},
         "outputs": [],
         "source": [
            "TARGET = \"BENEFIT_OPTION\"\n",
            "TARGET_PREFIX = \"T:\"\n",
            "FEATURES = [\"*\"]"
         ]
      },
      {
         "cell_type": "code",
         "execution_count": 15,
         "metadata": {},
         "outputs": [],
         "source": [
            "import ibis"
         ]
      },
      {
         "cell_type": "code",
         "execution_count": 16,
         "metadata": {},
         "outputs": [],
         "source": [
            "con = ibis.duckdb.connect(\"test_db_2.ddb\")"
         ]
      },
      {
         "cell_type": "code",
         "execution_count": 17,
         "metadata": {},
         "outputs": [],
         "source": [
            "customer_data = pd.read_csv('../data/01_raw/customer_data.csv')\n",
            "product_data = pd.read_csv('../data/01_raw/product_data.csv')"
         ]
      },
      {
         "cell_type": "code",
         "execution_count": 18,
         "metadata": {},
         "outputs": [
            {
               "data": {
                  "text/html": [
                     "<div>\n",
                     "<style scoped>\n",
                     "    .dataframe tbody tr th:only-of-type {\n",
                     "        vertical-align: middle;\n",
                     "    }\n",
                     "\n",
                     "    .dataframe tbody tr th {\n",
                     "        vertical-align: top;\n",
                     "    }\n",
                     "\n",
                     "    .dataframe thead th {\n",
                     "        text-align: right;\n",
                     "    }\n",
                     "</style>\n",
                     "<table border=\"1\" class=\"dataframe\">\n",
                     "  <thead>\n",
                     "    <tr style=\"text-align: right;\">\n",
                     "      <th></th>\n",
                     "      <th>Customer ID</th>\n",
                     "      <th>Grade</th>\n",
                     "      <th>Sub Grade</th>\n",
                     "      <th>Employment Length</th>\n",
                     "      <th>Home Ownership</th>\n",
                     "      <th>Annual Income</th>\n",
                     "      <th>Loan Status</th>\n",
                     "      <th>Payment Plan</th>\n",
                     "    </tr>\n",
                     "  </thead>\n",
                     "  <tbody>\n",
                     "    <tr>\n",
                     "      <th>0</th>\n",
                     "      <td>1</td>\n",
                     "      <td>A</td>\n",
                     "      <td>A1</td>\n",
                     "      <td>1.0</td>\n",
                     "      <td>MORTGAGE</td>\n",
                     "      <td>34000.0</td>\n",
                     "      <td>Fully Paid</td>\n",
                     "      <td>n</td>\n",
                     "    </tr>\n",
                     "    <tr>\n",
                     "      <th>1</th>\n",
                     "      <td>2</td>\n",
                     "      <td>A</td>\n",
                     "      <td>A1</td>\n",
                     "      <td>1.0</td>\n",
                     "      <td>MORTGAGE</td>\n",
                     "      <td>36000.0</td>\n",
                     "      <td>Fully Paid</td>\n",
                     "      <td>n</td>\n",
                     "    </tr>\n",
                     "    <tr>\n",
                     "      <th>2</th>\n",
                     "      <td>3</td>\n",
                     "      <td>A</td>\n",
                     "      <td>A1</td>\n",
                     "      <td>1.0</td>\n",
                     "      <td>MORTGAGE</td>\n",
                     "      <td>42000.0</td>\n",
                     "      <td>Charged Off</td>\n",
                     "      <td>n</td>\n",
                     "    </tr>\n",
                     "    <tr>\n",
                     "      <th>3</th>\n",
                     "      <td>4</td>\n",
                     "      <td>A</td>\n",
                     "      <td>A1</td>\n",
                     "      <td>1.0</td>\n",
                     "      <td>MORTGAGE</td>\n",
                     "      <td>49000.0</td>\n",
                     "      <td>Fully Paid</td>\n",
                     "      <td>n</td>\n",
                     "    </tr>\n",
                     "    <tr>\n",
                     "      <th>4</th>\n",
                     "      <td>5</td>\n",
                     "      <td>A</td>\n",
                     "      <td>A1</td>\n",
                     "      <td>1.0</td>\n",
                     "      <td>MORTGAGE</td>\n",
                     "      <td>50000.0</td>\n",
                     "      <td>Fully Paid</td>\n",
                     "      <td>n</td>\n",
                     "    </tr>\n",
                     "  </tbody>\n",
                     "</table>\n",
                     "</div>"
                  ],
                  "text/plain": [
                     "   Customer ID Grade Sub Grade  Employment Length Home Ownership  \\\n",
                     "0            1     A        A1                1.0       MORTGAGE   \n",
                     "1            2     A        A1                1.0       MORTGAGE   \n",
                     "2            3     A        A1                1.0       MORTGAGE   \n",
                     "3            4     A        A1                1.0       MORTGAGE   \n",
                     "4            5     A        A1                1.0       MORTGAGE   \n",
                     "\n",
                     "   Annual Income  Loan Status Payment Plan  \n",
                     "0        34000.0   Fully Paid            n  \n",
                     "1        36000.0   Fully Paid            n  \n",
                     "2        42000.0  Charged Off            n  \n",
                     "3        49000.0   Fully Paid            n  \n",
                     "4        50000.0   Fully Paid            n  "
                  ]
               },
               "execution_count": 18,
               "metadata": {},
               "output_type": "execute_result"
            }
         ],
         "source": [
            "customer_data.head()"
         ]
      },
      {
         "cell_type": "code",
         "execution_count": 19,
         "metadata": {},
         "outputs": [],
         "source": [
            "from sklearn.pipeline import Pipeline"
         ]
      },
      {
         "cell_type": "code",
         "execution_count": 20,
         "metadata": {},
         "outputs": [],
         "source": [
            "# Import the appropriate transformer from sklearn to group infrequent values\n",
            "# in the categorical columns\n",
            "from sklearn.preprocessing import FunctionTransformer"
         ]
      },
      {
         "cell_type": "code",
         "execution_count": null,
         "metadata": {},
         "outputs": [],
         "source": [
            "# Now, construct the pipeline that takes the categorical columns and\n",
            "# replaces infrequent values with the string 'Other'\n",
            "\n",
            "# First, define the function that will be used to replace infrequent values\n",
            "# with 'Other'\n",
            "\n",
            "def replace_infrequent(x):\n",
            "    counts = x.value_counts()\n",
            "    return x.where(x.isin(counts[counts >= MIN_OBS].index), 'Other')\n",
            "\n",
            "# Now, define the pipeline\n",
            "\n",
            "infrequent_cat_pipeline = Pipeline([\n",
            "    ('infrequent_cat_replacer', FunctionTransformer(replace_infrequent))\n",
            "])"
         ]
      },
      {
         "cell_type": "code",
         "execution_count": null,
         "metadata": {},
         "outputs": [],
         "source": []
      },
      {
         "cell_type": "code",
         "execution_count": 22,
         "metadata": {},
         "outputs": [
            {
               "data": {
                  "text/html": [
                     "<div>\n",
                     "<style scoped>\n",
                     "    .dataframe tbody tr th:only-of-type {\n",
                     "        vertical-align: middle;\n",
                     "    }\n",
                     "\n",
                     "    .dataframe tbody tr th {\n",
                     "        vertical-align: top;\n",
                     "    }\n",
                     "\n",
                     "    .dataframe thead th {\n",
                     "        text-align: right;\n",
                     "    }\n",
                     "</style>\n",
                     "<table border=\"1\" class=\"dataframe\">\n",
                     "  <thead>\n",
                     "    <tr style=\"text-align: right;\">\n",
                     "      <th></th>\n",
                     "      <th>Customer ID</th>\n",
                     "      <th>Product</th>\n",
                     "      <th>Take Up</th>\n",
                     "      <th>Value</th>\n",
                     "    </tr>\n",
                     "  </thead>\n",
                     "  <tbody>\n",
                     "    <tr>\n",
                     "      <th>0</th>\n",
                     "      <td>6</td>\n",
                     "      <td>Car</td>\n",
                     "      <td>False</td>\n",
                     "      <td>5926.968276</td>\n",
                     "    </tr>\n",
                     "    <tr>\n",
                     "      <th>1</th>\n",
                     "      <td>11</td>\n",
                     "      <td>Car</td>\n",
                     "      <td>False</td>\n",
                     "      <td>12939.951513</td>\n",
                     "    </tr>\n",
                     "    <tr>\n",
                     "      <th>2</th>\n",
                     "      <td>17</td>\n",
                     "      <td>Car</td>\n",
                     "      <td>False</td>\n",
                     "      <td>39558.648292</td>\n",
                     "    </tr>\n",
                     "    <tr>\n",
                     "      <th>3</th>\n",
                     "      <td>34</td>\n",
                     "      <td>Car</td>\n",
                     "      <td>False</td>\n",
                     "      <td>86960.194717</td>\n",
                     "    </tr>\n",
                     "    <tr>\n",
                     "      <th>4</th>\n",
                     "      <td>40</td>\n",
                     "      <td>Car</td>\n",
                     "      <td>True</td>\n",
                     "      <td>39107.895244</td>\n",
                     "    </tr>\n",
                     "  </tbody>\n",
                     "</table>\n",
                     "</div>"
                  ],
                  "text/plain": [
                     "   Customer ID Product  Take Up         Value\n",
                     "0            6     Car    False   5926.968276\n",
                     "1           11     Car    False  12939.951513\n",
                     "2           17     Car    False  39558.648292\n",
                     "3           34     Car    False  86960.194717\n",
                     "4           40     Car     True  39107.895244"
                  ]
               },
               "execution_count": 22,
               "metadata": {},
               "output_type": "execute_result"
            }
         ],
         "source": [
            "product_data.head()"
         ]
      },
      {
         "cell_type": "code",
         "execution_count": 29,
         "metadata": {},
         "outputs": [],
         "source": [
            "customer_data = con.read_csv('../data/01_raw/customer_data.csv', table_name='customer_data').execute()\n",
            "product_data = con.read_csv('../data/01_raw/product_data.csv', table_name='product_data').execute()"
         ]
      },
      {
         "cell_type": "code",
         "execution_count": null,
         "metadata": {},
         "outputs": [],
         "source": [
            "class IbisPipe():\n",
            "    def __init__(self)"
         ]
      },
      {
         "cell_type": "code",
         "execution_count": 33,
         "metadata": {},
         "outputs": [
            {
               "data": {
                  "text/plain": [
                     "ibis.backends.duckdb.Backend"
                  ]
               },
               "execution_count": 33,
               "metadata": {},
               "output_type": "execute_result"
            }
         ],
         "source": [
            "type(con)"
         ]
      },
      {
         "cell_type": "code",
         "execution_count": 129,
         "metadata": {},
         "outputs": [
            {
               "data": {
                  "text/plain": [
                     "ibis.expr.types.relations.Table"
                  ]
               },
               "execution_count": 129,
               "metadata": {},
               "output_type": "execute_result"
            }
         ],
         "source": [
            "type(t)"
         ]
      },
      {
         "cell_type": "code",
         "execution_count": 159,
         "metadata": {},
         "outputs": [],
         "source": [
            "class IbisCategoricalTransformer:\n",
            "    def __init__(\n",
            "            self,\n",
            "            con: ibis.backends.duckdb.Backend,\n",
            "            table: ibis.expr.types.relations.Table,\n",
            "            column_name: str,\n",
            "            infrequent_percentage: float = 0.01\n",
            "    ):\n",
            "        self.con = con\n",
            "        self.table = table\n",
            "        self.column_name = column_name\n",
            "        self.infrequent_percentage = infrequent_percentage\n",
            "\n",
            "    def fit(self):\n",
            "        t = self.table\n",
            "        # Get the frequency of each value\n",
            "        freq = t.group_by(self.column_name).count().execute()\n",
            "        freq.columns = ['value', 'count']\n",
            "        freq['percentage'] = freq['count'] / freq['count'].sum()\n",
            "        # Get the infrequent values\n",
            "        self.frequent_values = freq[freq['percentage'] >= self.infrequent_percentage]['value'].tolist()\n",
            "        return self\n",
            "    \n",
            "    def build_case_statement_element(self, case_statement, value, reference):\n",
            "        return case_statement.when(value, reference)\n",
            "\n",
            "    def build_case_statement(self, reference):\n",
            "        case_statement = reference.case()\n",
            "        for frequent_value in self.frequent_values:\n",
            "            case_statement = self.build_case_statement_element(\n",
            "                case_statement, frequent_value, reference\n",
            "            )\n",
            "        case_statement = case_statement.else_(\"_other\").end()\n",
            "        return case_statement\n",
            "\n",
            "    def transform(self, table: ibis.expr.types.relations.Table):\n",
            "        t = table\n",
            "        # Replace the infrequent values with the string 'infrequent'\n",
            "        t = t.mutate(**{\n",
            "            self.column_name: self.build_case_statement(t[self.column_name])\n",
            "        })\n",
            "        return t"
         ]
      },
      {
         "cell_type": "code",
         "execution_count": 229,
         "metadata": {},
         "outputs": [],
         "source": [
            "class IbisBinningTransformer:\n",
            "    \"\"\"\n",
            "    A class for binning a column in an Ibis table based on quantiles.\n",
            "\n",
            "    Args:\n",
            "        con (ibis.backends.duckdb.Backend): The Ibis backend connection.\n",
            "        table (ibis.expr.types.relations.Table): The Ibis table containing the data.\n",
            "        column_name (str): The name of the column to be binned.\n",
            "        n_bins (int, optional): The number of bins to create. Default is 10.\n",
            "\n",
            "    Attributes:\n",
            "        con (ibis.backends.duckdb.Backend): The Ibis backend connection.\n",
            "        table (ibis.expr.types.relations.Table): The Ibis table containing the data.\n",
            "        column_name (str): The name of the column to be binned.\n",
            "        n_bins (int): The number of bins to create.\n",
            "        bin_edges (list): The quantile-based bin edges.\n",
            "    \"\"\"\n",
            "\n",
            "    def __init__(\n",
            "        self,\n",
            "        con: ibis.backends.duckdb.Backend,\n",
            "        table: ibis.expr.types.relations.Table,\n",
            "        column_name: str,\n",
            "        n_bins: int = 10,\n",
            "    ):\n",
            "        self.con = con\n",
            "        self.table = table\n",
            "        self.column_name = column_name\n",
            "        self.n_bins = n_bins\n",
            "        self.bin_edges = None\n",
            "\n",
            "\n",
            "    def bin_label_element(self, statement, bin_label):\n",
            "        return statement.when(bin_label, bin_label)\n",
            "\n",
            "    def fit(self):\n",
            "        \"\"\"\n",
            "        Fit the binning transformer to the specified column based on quantiles.\n",
            "\n",
            "        This method calculates bin edges based on quantiles of the data in the specified column.\n",
            "\n",
            "        Returns:\n",
            "            None\n",
            "        \"\"\"\n",
            "        # Get the specified column from the table\n",
            "        column = self.table[self.column_name]\n",
            "\n",
            "        # Calculate quantile-based bin edges\n",
            "        quantiles = [i / self.n_bins for i in range(1, self.n_bins)]\n",
            "        self.bin_edges = column.quantile(quantiles).execute()\n",
            "        return self\n",
            "\n",
            "    def transform(self, table: ibis.expr.types.relations.Table = None):\n",
            "        \"\"\"\n",
            "        Apply the quantile-based binning transformation to the specified column.\n",
            "\n",
            "        This method assigns bin labels to the data in the specified column based on\n",
            "        the quantile-based bin edges calculated during the fitting process.\n",
            "\n",
            "        Returns:\n",
            "            ibis.expr.api.NumericValue: A new Ibis expression representing the binned column.\n",
            "        \"\"\"\n",
            "        if table is None:\n",
            "            t = self.table\n",
            "        else:\n",
            "            t = table\n",
            "        if self.bin_edges is None:\n",
            "            raise ValueError(\"Fit method must be called before transform.\")\n",
            "\n",
            "        # Get the specified column from the table\n",
            "        column = t[self.column_name]\n",
            "\n",
            "        # Use ibis case statement to assign bin labels based on quantiles\n",
            "        bin_labels = []\n",
            "        for i, bin_edge in enumerate(self.bin_edges):\n",
            "            bin_label = f\"Bin_{i}\"\n",
            "            if i == 0:\n",
            "                # Handle the first bin separately\n",
            "                bin_labels.append(\n",
            "                    ibis.case()\n",
            "                    .when(column <= bin_edge, bin_label)\n",
            "                    .else_(None)\n",
            "                    .end()\n",
            "                )\n",
            "            elif i == len(self.bin_edges) - 1:\n",
            "                # Handle the last bin separately\n",
            "                bin_labels.append(\n",
            "                    ibis.case()\n",
            "                    .when(column > self.bin_edges[i - 1], bin_label)\n",
            "                    .else_(None)\n",
            "                    .end()\n",
            "                )\n",
            "            else:\n",
            "                bin_labels.append(\n",
            "                    ibis.case()\n",
            "                    .when((column > self.bin_edges[i - 1]) & (column <= bin_edge), bin_label)\n",
            "                    .else_(None)\n",
            "                    .end()\n",
            "                )\n",
            "\n",
            "        # Concatenate bin labels into a single expression\n",
            "        binned_column = None\n",
            "\n",
            "        for bin_label in bin_labels:\n",
            "            if binned_column is None:\n",
            "                binned_column = bin_label\n",
            "            else:\n",
            "                binned_column = binned_column.fillna(bin_label)\n",
            "\n",
            "        t = self.table\n",
            "        # Replace the infrequent values with the string 'infrequent'\n",
            "        t = t.mutate(**{\n",
            "            self.column_name: binned_column\n",
            "        })\n",
            "\n",
            "        return t"
         ]
      },
      {
         "cell_type": "code",
         "execution_count": 230,
         "metadata": {},
         "outputs": [],
         "source": [
            "class IbisPipe:\n",
            "    def __init__(self, con: ibis.backends.duckdb.Backend):\n",
            "        self.con = con\n",
            "        self.steps = []\n",
            "    \n",
            "    def add_step(self, step):\n",
            "        self.steps.append(step)\n",
            "        return self\n",
            "    \n",
            "    def fit(self):\n",
            "        for step in self.steps:\n",
            "            step.fit()\n",
            "        return self\n",
            "    \n",
            "    def transform(self):\n",
            "        t = None\n",
            "        for step in self.steps:\n",
            "            if t is None:\n",
            "                t = step.transform(step.table)\n",
            "            else:\n",
            "                t = step.transform(t)\n",
            "        return t"
         ]
      },
      {
         "cell_type": "code",
         "execution_count": 231,
         "metadata": {},
         "outputs": [],
         "source": [
            "pipe = IbisPipe(con)\n",
            "CATEGORICAL_COLUMNS = ['Grade', 'Sub Grade', 'Home Ownership', 'Loan Status', 'Payment Plan']\n",
            "INFREQUENT_PERCENTAGE = 0.01"
         ]
      },
      {
         "cell_type": "code",
         "execution_count": 232,
         "metadata": {},
         "outputs": [],
         "source": [
            "t = con.table('customer_data')\n",
            "for c in CATEGORICAL_COLUMNS:\n",
            "    pipe = pipe.add_step(IbisCategoricalTransformer(con, t, c, INFREQUENT_PERCENTAGE))"
         ]
      },
      {
         "cell_type": "code",
         "execution_count": 233,
         "metadata": {},
         "outputs": [],
         "source": [
            "bin = IbisBinningTransformer(con, t, 'Annual Income', 10)"
         ]
      },
      {
         "cell_type": "code",
         "execution_count": 234,
         "metadata": {},
         "outputs": [],
         "source": [
            "bin = bin.fit()"
         ]
      },
      {
         "cell_type": "code",
         "execution_count": 235,
         "metadata": {},
         "outputs": [
            {
               "ename": "AttributeError",
               "evalue": "module 'ibis' has no attribute 'concat'. ",
               "output_type": "error",
               "traceback": [
                  "\u001b[0;31m---------------------------------------------------------------------------\u001b[0m",
                  "\u001b[0;31mAttributeError\u001b[0m                            Traceback (most recent call last)",
                  "\u001b[1;32m/Users/fcdevos/Projects/SmartLeads/notebooks/main.ipynb Cell 26\u001b[0m line \u001b[0;36m1\n\u001b[0;32m----> <a href='vscode-notebook-cell:/Users/fcdevos/Projects/SmartLeads/notebooks/main.ipynb#Y320sZmlsZQ%3D%3D?line=0'>1</a>\u001b[0m \u001b[39mbin\u001b[39;49m\u001b[39m.\u001b[39;49mtransform()\n",
                  "\u001b[1;32m/Users/fcdevos/Projects/SmartLeads/notebooks/main.ipynb Cell 26\u001b[0m line \u001b[0;36m9\n\u001b[1;32m     <a href='vscode-notebook-cell:/Users/fcdevos/Projects/SmartLeads/notebooks/main.ipynb#Y320sZmlsZQ%3D%3D?line=89'>90</a>\u001b[0m         bin_labels\u001b[39m.\u001b[39mappend(\n\u001b[1;32m     <a href='vscode-notebook-cell:/Users/fcdevos/Projects/SmartLeads/notebooks/main.ipynb#Y320sZmlsZQ%3D%3D?line=90'>91</a>\u001b[0m             ibis\u001b[39m.\u001b[39mcase()\n\u001b[1;32m     <a href='vscode-notebook-cell:/Users/fcdevos/Projects/SmartLeads/notebooks/main.ipynb#Y320sZmlsZQ%3D%3D?line=91'>92</a>\u001b[0m             \u001b[39m.\u001b[39mwhen((column \u001b[39m>\u001b[39m \u001b[39mself\u001b[39m\u001b[39m.\u001b[39mbin_edges[i \u001b[39m-\u001b[39m \u001b[39m1\u001b[39m]) \u001b[39m&\u001b[39m (column \u001b[39m<\u001b[39m\u001b[39m=\u001b[39m bin_edge), bin_label)\n\u001b[1;32m     <a href='vscode-notebook-cell:/Users/fcdevos/Projects/SmartLeads/notebooks/main.ipynb#Y320sZmlsZQ%3D%3D?line=92'>93</a>\u001b[0m             \u001b[39m.\u001b[39melse_(\u001b[39mNone\u001b[39;00m)\n\u001b[1;32m     <a href='vscode-notebook-cell:/Users/fcdevos/Projects/SmartLeads/notebooks/main.ipynb#Y320sZmlsZQ%3D%3D?line=93'>94</a>\u001b[0m             \u001b[39m.\u001b[39mend()\n\u001b[1;32m     <a href='vscode-notebook-cell:/Users/fcdevos/Projects/SmartLeads/notebooks/main.ipynb#Y320sZmlsZQ%3D%3D?line=94'>95</a>\u001b[0m         )\n\u001b[1;32m     <a href='vscode-notebook-cell:/Users/fcdevos/Projects/SmartLeads/notebooks/main.ipynb#Y320sZmlsZQ%3D%3D?line=96'>97</a>\u001b[0m \u001b[39m# Concatenate bin labels into a single expression\u001b[39;00m\n\u001b[0;32m---> <a href='vscode-notebook-cell:/Users/fcdevos/Projects/SmartLeads/notebooks/main.ipynb#Y320sZmlsZQ%3D%3D?line=97'>98</a>\u001b[0m binned_column \u001b[39m=\u001b[39m ibis\u001b[39m.\u001b[39;49mconcat(bin_labels)\u001b[39m.\u001b[39mname(\u001b[39mf\u001b[39m\u001b[39m\"\u001b[39m\u001b[39m{\u001b[39;00m\u001b[39mself\u001b[39m\u001b[39m.\u001b[39mcolumn_name\u001b[39m}\u001b[39;00m\u001b[39m_bin\u001b[39m\u001b[39m\"\u001b[39m)\n\u001b[1;32m    <a href='vscode-notebook-cell:/Users/fcdevos/Projects/SmartLeads/notebooks/main.ipynb#Y320sZmlsZQ%3D%3D?line=99'>100</a>\u001b[0m t \u001b[39m=\u001b[39m \u001b[39mself\u001b[39m\u001b[39m.\u001b[39mtable\n\u001b[1;32m    <a href='vscode-notebook-cell:/Users/fcdevos/Projects/SmartLeads/notebooks/main.ipynb#Y320sZmlsZQ%3D%3D?line=100'>101</a>\u001b[0m \u001b[39m# Replace the infrequent values with the string 'infrequent'\u001b[39;00m\n",
                  "File \u001b[0;32m~/opt/anaconda3/envs/SmartLeads/lib/python3.8/site-packages/ibis/__init__.py:58\u001b[0m, in \u001b[0;36m__getattr__\u001b[0;34m(name)\u001b[0m\n\u001b[1;32m     55\u001b[0m     \u001b[39mif\u001b[39;00m name \u001b[39min\u001b[39;00m _KNOWN_BACKENDS:\n\u001b[1;32m     56\u001b[0m         msg \u001b[39m+\u001b[39m\u001b[39m=\u001b[39m \u001b[39mf\u001b[39m\u001b[39m\"\"\"\u001b[39m\u001b[39mIf you are trying to access the \u001b[39m\u001b[39m'\u001b[39m\u001b[39m{\u001b[39;00mname\u001b[39m}\u001b[39;00m\u001b[39m'\u001b[39m\u001b[39m backend,\u001b[39m\n\u001b[1;32m     57\u001b[0m \u001b[39m                try installing it first with `pip install ibis-\u001b[39m\u001b[39m{\u001b[39;00mname\u001b[39m}\u001b[39;00m\u001b[39m`\u001b[39m\u001b[39m\"\"\"\u001b[39m\n\u001b[0;32m---> 58\u001b[0m     \u001b[39mraise\u001b[39;00m \u001b[39mAttributeError\u001b[39;00m(msg)\n\u001b[1;32m     60\u001b[0m \u001b[39mif\u001b[39;00m \u001b[39mlen\u001b[39m(entry_points) \u001b[39m>\u001b[39m \u001b[39m1\u001b[39m:\n\u001b[1;32m     61\u001b[0m     \u001b[39mraise\u001b[39;00m \u001b[39mRuntimeError\u001b[39;00m(\n\u001b[1;32m     62\u001b[0m         \u001b[39mf\u001b[39m\u001b[39m\"\u001b[39m\u001b[39m{\u001b[39;00m\u001b[39mlen\u001b[39m(entry_points)\u001b[39m}\u001b[39;00m\u001b[39m packages found for backend \u001b[39m\u001b[39m'\u001b[39m\u001b[39m{\u001b[39;00mname\u001b[39m}\u001b[39;00m\u001b[39m'\u001b[39m\u001b[39m: \u001b[39m\u001b[39m\"\u001b[39m\n\u001b[1;32m     63\u001b[0m         \u001b[39mf\u001b[39m\u001b[39m\"\u001b[39m\u001b[39m{\u001b[39;00mentry_points\u001b[39m}\u001b[39;00m\u001b[39m\\n\u001b[39;00m\u001b[39m\"\u001b[39m\n\u001b[1;32m     64\u001b[0m         \u001b[39m\"\u001b[39m\u001b[39mThere should be only one, please uninstall the unused packages \u001b[39m\u001b[39m\"\u001b[39m\n\u001b[1;32m     65\u001b[0m         \u001b[39m\"\u001b[39m\u001b[39mand just leave the one that needs to be used.\u001b[39m\u001b[39m\"\u001b[39m\n\u001b[1;32m     66\u001b[0m     )\n",
                  "\u001b[0;31mAttributeError\u001b[0m: module 'ibis' has no attribute 'concat'. "
               ]
            }
         ],
         "source": [
            "bin.transform()"
         ]
      },
      {
         "cell_type": "code",
         "execution_count": 169,
         "metadata": {},
         "outputs": [],
         "source": [
            "pipe = pipe.fit()"
         ]
      },
      {
         "cell_type": "code",
         "execution_count": 170,
         "metadata": {},
         "outputs": [],
         "source": [
            "t = pipe.transform()"
         ]
      },
      {
         "cell_type": "code",
         "execution_count": null,
         "metadata": {},
         "outputs": [],
         "source": []
      },
      {
         "cell_type": "code",
         "execution_count": null,
         "metadata": {},
         "outputs": [],
         "source": []
      },
      {
         "cell_type": "code",
         "execution_count": null,
         "metadata": {},
         "outputs": [],
         "source": []
      },
      {
         "cell_type": "code",
         "execution_count": 28,
         "metadata": {},
         "outputs": [
            {
               "data": {
                  "text/plain": [
                     "['customer_data']"
                  ]
               },
               "execution_count": 28,
               "metadata": {},
               "output_type": "execute_result"
            }
         ],
         "source": [
            "con.list_tables()"
         ]
      },
      {
         "cell_type": "code",
         "execution_count": 6,
         "metadata": {},
         "outputs": [],
         "source": [
            "\n",
            "\n",
            "\n",
            "#os.environ['UI_ENV'] = UI_ENV_NOTEBOOK #TODO! no value # TODO set in devcontainer.json\n",
            "\n",
            "# importing local libraries\n",
            "os.chdir(\"../src/\")\n",
            "import smartleads\n",
            "from smartleads.util.setup_bigquery import create_datasets\n",
            "from smartleads.util.tools import *\n",
            "import smartleads.util.bq as bq\n",
            "import smartleads.profiling\n",
            "import smartleads.preprocessing\n",
            "import smartleads.support\n",
            "from smartleads.globals import *\n",
            "import smartleads.id_agg\n",
            "import smartleads.combo_generation\n",
            "import smartleads.lift\n",
            "import smartleads.score\n",
            "import smartleads.combo_count\n",
            "from smartleads.insights import (\n",
            "    get_sample_associations_df, \n",
            "    get_target_dataframe, \n",
            "    get_included_dataframe,\n",
            "    get_lift_distribution_dataframe,\n",
            "    get_confidence_distribution_dataframe,\n",
            "    get_support_distribution_dataframe,\n",
            ")\n",
            "from smartleads.generalising import generalise_data"
         ]
      },
      {
         "cell_type": "markdown",
         "metadata": {},
         "source": [
            "## Specify parameters"
         ]
      },
      {
         "cell_type": "markdown",
         "metadata": {},
         "source": [
            "### Project details"
         ]
      },
      {
         "cell_type": "code",
         "execution_count": 7,
         "metadata": {},
         "outputs": [],
         "source": [
            "PROJECT_ID = 'smartleads-393408' # set on gcp\n",
            "SERVICE_ACCOUNT_KEY_PATH = \"./key.json\" # from gcp\n",
            "\n",
            "# big query client\n",
            "client = bq.get_new_client(service_account_key_path=SERVICE_ACCOUNT_KEY_PATH)"
         ]
      },
      {
         "cell_type": "markdown",
         "metadata": {},
         "source": [
            "### Hyperparameters"
         ]
      },
      {
         "cell_type": "code",
         "execution_count": 8,
         "metadata": {},
         "outputs": [],
         "source": [
            "SCORING_CHUNK_MOD = 100\n",
            "MIN_SUPPORT = 0.001\n",
            "MIN_FEATURES_IN_RULE = 3\n",
            "MAX_FEATURES_IN_RULE = 3\n",
            "QUERIES_PER_CHUNK = 100\n",
            "MIN_CONFIDENCE = 0.1\n",
            "MIN_OBS = 5\n",
            "MIN_LIFT = 1.1\n",
            "MAX_RULES_PER_PRODUCT = 5000\n",
            "QUANTILES_FOR_PLOTS = 10\n",
            "MAX_OPTIONS_PER_CUSTOMER = 3"
         ]
      },
      {
         "cell_type": "markdown",
         "metadata": {},
         "source": [
            "### `TARGET` & `FEATURES`"
         ]
      },
      {
         "cell_type": "markdown",
         "metadata": {},
         "source": [
            "List of features to be kept"
         ]
      },
      {
         "cell_type": "code",
         "execution_count": 9,
         "metadata": {},
         "outputs": [],
         "source": [
            "TARGET = \"BENEFIT_OPTION\"\n",
            "TARGET_PREFIX = \"T:\"\n",
            "FEATURES = [\"*\"]"
         ]
      },
      {
         "cell_type": "code",
         "execution_count": 6,
         "metadata": {},
         "outputs": [
            {
               "data": {
                  "text/plain": [
                     "'9c3aeb8b31b94da29225b68bea908696'"
                  ]
               },
               "execution_count": 6,
               "metadata": {},
               "output_type": "execute_result"
            }
         ],
         "source": [
            "# Generate new\n",
            "RUN_UNIQUE_IDENTIFIER = uuid.uuid4().hex\n",
            "RUN_NAME = \"prod\"\n",
            "RUN_UNIQUE_IDENTIFIER"
         ]
      },
      {
         "cell_type": "markdown",
         "metadata": {},
         "source": [
            "\n",
            "--- \n",
            "# Setting table names"
         ]
      },
      {
         "cell_type": "markdown",
         "metadata": {},
         "source": [
            "### Set run details with auto unique identifier"
         ]
      },
      {
         "cell_type": "code",
         "execution_count": 10,
         "metadata": {},
         "outputs": [
            {
               "data": {
                  "text/plain": [
                     "'02a960c65cd4468895d3c982a6461644'"
                  ]
               },
               "execution_count": 10,
               "metadata": {},
               "output_type": "execute_result"
            }
         ],
         "source": [
            "# Generate new\n",
            "RUN_UNIQUE_IDENTIFIER = uuid.uuid4().hex\n",
            "RUN_NAME = \"prod\"\n",
            "RUN_UNIQUE_IDENTIFIER\n",
            "\n",
            "# Use exisiting\n",
            "#RUN_NAME = \"dev\"\n",
            "#RUN_UNIQUE_IDENTIFIER = \"c8fa5a4d4c2f41c9869e6c76fa4ccda1\""
         ]
      },
      {
         "cell_type": "markdown",
         "metadata": {},
         "source": [
            "## Datasets"
         ]
      },
      {
         "cell_type": "markdown",
         "metadata": {},
         "source": [
            "### Define Datasets "
         ]
      },
      {
         "cell_type": "code",
         "execution_count": 11,
         "metadata": {},
         "outputs": [],
         "source": [
            "RAW_DATASET = f\"raw_{RUN_NAME}_{RUN_UNIQUE_IDENTIFIER}\"\n",
            "INPUT_DATASET = f\"input_{RUN_NAME}_{RUN_UNIQUE_IDENTIFIER}\"\n",
            "INTERIM_DATASET = f\"interim_{RUN_NAME}_{RUN_UNIQUE_IDENTIFIER}\"\n",
            "TEMPORARY_DATASET = f\"temp_{RUN_NAME}_{RUN_UNIQUE_IDENTIFIER}\"\n",
            "OUTPUT_DATSET = f\"output_{RUN_NAME}_{RUN_UNIQUE_IDENTIFIER}\""
         ]
      },
      {
         "cell_type": "markdown",
         "metadata": {},
         "source": [
            "### Create Datasets"
         ]
      },
      {
         "cell_type": "code",
         "execution_count": 12,
         "metadata": {},
         "outputs": [
            {
               "data": {
                  "application/vnd.jupyter.widget-view+json": {
                     "model_id": "0decc1ff98b5487c8c44511665f5afec",
                     "version_major": 2,
                     "version_minor": 0
                  },
                  "text/plain": [
                     "Creating datasets:   0%|          | 0/5 [00:00<?, ?it/s]"
                  ]
               },
               "metadata": {},
               "output_type": "display_data"
            },
            {
               "name": "stdout",
               "output_type": "stream",
               "text": [
                  "Created dataset: smartleads-393408.raw_prod_02a960c65cd4468895d3c982a6461644\n",
                  "Created dataset: smartleads-393408.input_prod_02a960c65cd4468895d3c982a6461644\n",
                  "Created dataset: smartleads-393408.interim_prod_02a960c65cd4468895d3c982a6461644\n",
                  "Created dataset: smartleads-393408.temp_prod_02a960c65cd4468895d3c982a6461644\n",
                  "Created dataset: smartleads-393408.output_prod_02a960c65cd4468895d3c982a6461644\n"
               ]
            }
         ],
         "source": [
            "datasets = [\n",
            "    RAW_DATASET,\n",
            "    INPUT_DATASET,\n",
            "    INTERIM_DATASET,\n",
            "    TEMPORARY_DATASET,\n",
            "    OUTPUT_DATSET,\n",
            "]\n",
            "\n",
            "\n",
            "create_datasets(\n",
            "    client,\n",
            "    datasets,\n",
            "    PROJECT_ID,\n",
            "    location=\"US\"\n",
            ")"
         ]
      },
      {
         "cell_type": "markdown",
         "metadata": {},
         "source": [
            "## Raw Table"
         ]
      },
      {
         "cell_type": "markdown",
         "metadata": {},
         "source": [
            "```\n",
            "# TODO this is missing; check repo\n",
            "```\n"
         ]
      },
      {
         "cell_type": "markdown",
         "metadata": {},
         "source": [
            "## Input Tables"
         ]
      },
      {
         "cell_type": "code",
         "execution_count": 13,
         "metadata": {},
         "outputs": [
            {
               "name": "stdout",
               "output_type": "stream",
               "text": [
                  "Ensure the following tables exist in gcp smartleads-393408: \n",
                  "* `smartleads-393408.raw_prod_02a960c65cd4468895d3c982a6461644.recommendations_input` \n",
                  "* `smartleads-393408.input_prod_02a960c65cd4468895d3c982a6461644.train_input` \n",
                  "* `smartleads-393408.input_prod_02a960c65cd4468895d3c982a6461644.score_input`\n"
               ]
            }
         ],
         "source": [
            "source_table = f'`{PROJECT_ID}.{RAW_DATASET}.recommendations_input`'\n",
            "input_table = f'`{PROJECT_ID}.{INPUT_DATASET}.train_input`'\n",
            "input_score_table = f'`{PROJECT_ID}.{INPUT_DATASET}.score_input`'\n",
            "\n",
            "print(f\"Ensure the following tables exist in gcp {PROJECT_ID}: \\n* {source_table} \\n* {input_table} \\n* {input_score_table}\")\n"
         ]
      },
      {
         "cell_type": "markdown",
         "metadata": {},
         "source": [
            "## Interim Tables"
         ]
      },
      {
         "cell_type": "code",
         "execution_count": 15,
         "metadata": {},
         "outputs": [],
         "source": [
            "sample_table = f'`{PROJECT_ID}.{INTERIM_DATASET}.train_sample`'\n",
            "engineered_table = f'`{PROJECT_ID}.{INTERIM_DATASET}.train_engineered`'\n",
            "engineered_score_table = f'`{PROJECT_ID}.{INTERIM_DATASET}.score_engineered`'\n",
            "long_table =  f'`{PROJECT_ID}.{INTERIM_DATASET}.feature_long`'\n",
            "support_table = f'`{PROJECT_ID}.{INTERIM_DATASET}.support`'\n",
            "id_agg_table = f'`{PROJECT_ID}.{INTERIM_DATASET}.id_agg`' # Customer level\n",
            "id_agg_score_table = f'`{PROJECT_ID}.{INTERIM_DATASET}.score_id_agg`'\n",
            "combo_count_table = f'`{PROJECT_ID}.{INTERIM_DATASET}.combo_count`'"
         ]
      },
      {
         "cell_type": "markdown",
         "metadata": {
            "tags": []
         },
         "source": [
            "## Temporary Tables"
         ]
      },
      {
         "cell_type": "code",
         "execution_count": 16,
         "metadata": {},
         "outputs": [],
         "source": [
            "combo_temp_format = '`' + PROJECT_ID + f'.{TEMPORARY_DATASET}'+'.combos_{i}`'\n",
            "scoring_temp_table_format = '`' + PROJECT_ID + f'.{TEMPORARY_DATASET}'+'.score_combos_{i}`'"
         ]
      },
      {
         "cell_type": "markdown",
         "metadata": {
            "tags": []
         },
         "source": [
            "## Output Tables"
         ]
      },
      {
         "cell_type": "code",
         "execution_count": 17,
         "metadata": {},
         "outputs": [],
         "source": [
            "lift_table = f'`{PROJECT_ID}.{OUTPUT_DATSET}.lift`'\n",
            "lift_filtered_table = f'`{PROJECT_ID}.{OUTPUT_DATSET}.lift_filtered`'\n",
            "fully_scored_table = f'`{PROJECT_ID}.{OUTPUT_DATSET}.fully_scored`'\n",
            "top_products_table = f'`{PROJECT_ID}.{OUTPUT_DATSET}.top_products`'\n",
            "top_products_wide_table = f'`{PROJECT_ID}.{OUTPUT_DATSET}.top_products_wide`'"
         ]
      },
      {
         "cell_type": "markdown",
         "metadata": {},
         "source": [
            "## Export table names"
         ]
      },
      {
         "cell_type": "code",
         "execution_count": 19,
         "metadata": {},
         "outputs": [],
         "source": [
            "TABLES_META_DATA = {\n",
            "    \"source_table\": source_table, #TODO! no value\n",
            "    \"input_table\": input_table,\n",
            "    \"input_score_table\": input_score_table,\n",
            "    \"sample_table\": sample_table,\n",
            "    \"engineered_table\": engineered_table,\n",
            "    \"engineered_score_table\": engineered_score_table,\n",
            "    \"long_table\": long_table,\n",
            "    \"support_table\": support_table,\n",
            "    \"id_agg_table\": id_agg_table,\n",
            "    \"id_agg_score_table\": id_agg_score_table,\n",
            "    \"combo_count_table\": combo_count_table,\n",
            "    \"combo_temp_format\": combo_temp_format,\n",
            "    \"scoring_temp_table_format\": scoring_temp_table_format,\n",
            "    \"lift_table\": lift_table,\n",
            "    \"lift_filtered_table\": lift_filtered_table,\n",
            "    \"fully_scored_table\": fully_scored_table,\n",
            "    \"top_products_table\": top_products_table,\n",
            "    \"top_products_wide_table\": top_products_wide_table\n",
            "}\n",
            "\n",
            "if not os.path.exists(\"../META/\"):\n",
            "    os.makedirs('../META/')\n",
            "\n",
            "TABLES_META_DATA_JSON = json.dumps(TABLES_META_DATA)\n",
            "\n",
            "with open('../META/TABLES_META_DATA.json', 'w') as outfile:\n",
            "    outfile.write(TABLES_META_DATA_JSON)"
         ]
      },
      {
         "cell_type": "markdown",
         "metadata": {},
         "source": [
            "# Import your raw data"
         ]
      },
      {
         "cell_type": "markdown",
         "metadata": {},
         "source": [
            "Rules for the data  \n",
            "1. You have to have a field that is the `ID` for the customer  \n",
            "2. You have to have your products or targets as an [array](https://cloud.google.com/bigquery/docs/reference/standard-sql/arrays) in the `TARGET` field.  \n",
            "3. `FEATURES` need to either be categorical already, ordinal as integers or arrays  \n",
            "4. You've already converted your categorical columns to lower case  \n",
            "5. You don't have any funny spaces or newlines in your data  "
         ]
      },
      {
         "cell_type": "code",
         "execution_count": 20,
         "metadata": {},
         "outputs": [
            {
               "name": "stdout",
               "output_type": "stream",
               "text": [
                  "Help on function generalise_data in module smartleads.generalising:\n",
                  "\n",
                  "generalise_data(client: 'bigquery.Client', features: 'list', input_table: 'str', source_table: 'str', target: 'str')\n",
                  "    Generate a generalised data table.\n",
                  "    \n",
                  "    Args:\n",
                  "        client (bigquery.Client): A bigquery Client instance.\n",
                  "        features (list): list of features to be included in the general table.\n",
                  "        input_table (str): the input tabe name. It must inlcude the project id and dataset.\n",
                  "        source_table (str): the output tabe name. It must inlcude the project id and dataset.\n",
                  "        target (str): the target variable.\n",
                  "\n"
               ]
            },
            {
               "ename": "BadRequest",
               "evalue": "400 Not found: Table smartleads-393408:raw_prod_02a960c65cd4468895d3c982a6461644.recommendations_input was not found in location US at [3:1]\n\nLocation: US\nJob ID: fe7ffc2f-1151-4272-999f-fd8f1075ab7f\n",
               "output_type": "error",
               "traceback": [
                  "\u001b[0;31m---------------------------------------------------------------------------\u001b[0m",
                  "\u001b[0;31mBadRequest\u001b[0m                                Traceback (most recent call last)",
                  "Cell \u001b[0;32mIn[20], line 2\u001b[0m\n\u001b[1;32m      1\u001b[0m help(generalise_data)\n\u001b[0;32m----> 2\u001b[0m generalise_data(client, FEATURES, input_table, source_table, TARGET)\n",
                  "File \u001b[0;32m/workspaces/smartleads/src/smartleads/generalising.py:50\u001b[0m, in \u001b[0;36mgeneralise_data\u001b[0;34m(client, features, input_table, source_table, target)\u001b[0m\n\u001b[1;32m     40\u001b[0m \u001b[39m\u001b[39m\u001b[39m\"\"\"Generate a generalised data table.\u001b[39;00m\n\u001b[1;32m     41\u001b[0m \n\u001b[1;32m     42\u001b[0m \u001b[39mArgs:\u001b[39;00m\n\u001b[0;32m   (...)\u001b[0m\n\u001b[1;32m     47\u001b[0m \u001b[39m    target (str): the target variable.\u001b[39;00m\n\u001b[1;32m     48\u001b[0m \u001b[39m\"\"\"\u001b[39;00m\n\u001b[1;32m     49\u001b[0m sql \u001b[39m=\u001b[39m generate_generalise_data_sql(features, input_table, source_table, target)\n\u001b[0;32m---> 50\u001b[0m bq\u001b[39m.\u001b[39;49mexecute_and_wait(client, sql)\n",
                  "File \u001b[0;32m/workspaces/smartleads/src/smartleads/util/bq.py:17\u001b[0m, in \u001b[0;36mexecute_and_wait\u001b[0;34m(client, sql)\u001b[0m\n\u001b[1;32m     10\u001b[0m \u001b[39m\u001b[39m\u001b[39m\"\"\"Execute the sql code and wait for it to finish.\u001b[39;00m\n\u001b[1;32m     11\u001b[0m \n\u001b[1;32m     12\u001b[0m \u001b[39mArgs:\u001b[39;00m\n\u001b[1;32m     13\u001b[0m \u001b[39m    client (bigquery.Client): Bigquery Client to use for execution.\u001b[39;00m\n\u001b[1;32m     14\u001b[0m \u001b[39m    sql (str): SQL code to execute.\u001b[39;00m\n\u001b[1;32m     15\u001b[0m \u001b[39m\"\"\"\u001b[39;00m\n\u001b[1;32m     16\u001b[0m job \u001b[39m=\u001b[39m client\u001b[39m.\u001b[39mquery(sql)\n\u001b[0;32m---> 17\u001b[0m job\u001b[39m.\u001b[39;49mresult()\n",
                  "File \u001b[0;32m~/.local/lib/python3.11/site-packages/google/cloud/bigquery/job/query.py:1520\u001b[0m, in \u001b[0;36mQueryJob.result\u001b[0;34m(self, page_size, max_results, retry, timeout, start_index, job_retry)\u001b[0m\n\u001b[1;32m   1517\u001b[0m     \u001b[39mif\u001b[39;00m retry_do_query \u001b[39mis\u001b[39;00m \u001b[39mnot\u001b[39;00m \u001b[39mNone\u001b[39;00m \u001b[39mand\u001b[39;00m job_retry \u001b[39mis\u001b[39;00m \u001b[39mnot\u001b[39;00m \u001b[39mNone\u001b[39;00m:\n\u001b[1;32m   1518\u001b[0m         do_get_result \u001b[39m=\u001b[39m job_retry(do_get_result)\n\u001b[0;32m-> 1520\u001b[0m     do_get_result()\n\u001b[1;32m   1522\u001b[0m \u001b[39mexcept\u001b[39;00m exceptions\u001b[39m.\u001b[39mGoogleAPICallError \u001b[39mas\u001b[39;00m exc:\n\u001b[1;32m   1523\u001b[0m     exc\u001b[39m.\u001b[39mmessage \u001b[39m=\u001b[39m _EXCEPTION_FOOTER_TEMPLATE\u001b[39m.\u001b[39mformat(\n\u001b[1;32m   1524\u001b[0m         message\u001b[39m=\u001b[39mexc\u001b[39m.\u001b[39mmessage, location\u001b[39m=\u001b[39m\u001b[39mself\u001b[39m\u001b[39m.\u001b[39mlocation, job_id\u001b[39m=\u001b[39m\u001b[39mself\u001b[39m\u001b[39m.\u001b[39mjob_id\n\u001b[1;32m   1525\u001b[0m     )\n",
                  "File \u001b[0;32m~/.local/lib/python3.11/site-packages/google/api_core/retry.py:349\u001b[0m, in \u001b[0;36mRetry.__call__.<locals>.retry_wrapped_func\u001b[0;34m(*args, **kwargs)\u001b[0m\n\u001b[1;32m    345\u001b[0m target \u001b[39m=\u001b[39m functools\u001b[39m.\u001b[39mpartial(func, \u001b[39m*\u001b[39margs, \u001b[39m*\u001b[39m\u001b[39m*\u001b[39mkwargs)\n\u001b[1;32m    346\u001b[0m sleep_generator \u001b[39m=\u001b[39m exponential_sleep_generator(\n\u001b[1;32m    347\u001b[0m     \u001b[39mself\u001b[39m\u001b[39m.\u001b[39m_initial, \u001b[39mself\u001b[39m\u001b[39m.\u001b[39m_maximum, multiplier\u001b[39m=\u001b[39m\u001b[39mself\u001b[39m\u001b[39m.\u001b[39m_multiplier\n\u001b[1;32m    348\u001b[0m )\n\u001b[0;32m--> 349\u001b[0m \u001b[39mreturn\u001b[39;00m retry_target(\n\u001b[1;32m    350\u001b[0m     target,\n\u001b[1;32m    351\u001b[0m     \u001b[39mself\u001b[39;49m\u001b[39m.\u001b[39;49m_predicate,\n\u001b[1;32m    352\u001b[0m     sleep_generator,\n\u001b[1;32m    353\u001b[0m     \u001b[39mself\u001b[39;49m\u001b[39m.\u001b[39;49m_timeout,\n\u001b[1;32m    354\u001b[0m     on_error\u001b[39m=\u001b[39;49mon_error,\n\u001b[1;32m    355\u001b[0m )\n",
                  "File \u001b[0;32m~/.local/lib/python3.11/site-packages/google/api_core/retry.py:191\u001b[0m, in \u001b[0;36mretry_target\u001b[0;34m(target, predicate, sleep_generator, timeout, on_error, **kwargs)\u001b[0m\n\u001b[1;32m    189\u001b[0m \u001b[39mfor\u001b[39;00m sleep \u001b[39min\u001b[39;00m sleep_generator:\n\u001b[1;32m    190\u001b[0m     \u001b[39mtry\u001b[39;00m:\n\u001b[0;32m--> 191\u001b[0m         \u001b[39mreturn\u001b[39;00m target()\n\u001b[1;32m    193\u001b[0m     \u001b[39m# pylint: disable=broad-except\u001b[39;00m\n\u001b[1;32m    194\u001b[0m     \u001b[39m# This function explicitly must deal with broad exceptions.\u001b[39;00m\n\u001b[1;32m    195\u001b[0m     \u001b[39mexcept\u001b[39;00m \u001b[39mException\u001b[39;00m \u001b[39mas\u001b[39;00m exc:\n",
                  "File \u001b[0;32m~/.local/lib/python3.11/site-packages/google/cloud/bigquery/job/query.py:1510\u001b[0m, in \u001b[0;36mQueryJob.result.<locals>.do_get_result\u001b[0;34m()\u001b[0m\n\u001b[1;32m   1507\u001b[0m     \u001b[39mself\u001b[39m\u001b[39m.\u001b[39m_retry_do_query \u001b[39m=\u001b[39m retry_do_query\n\u001b[1;32m   1508\u001b[0m     \u001b[39mself\u001b[39m\u001b[39m.\u001b[39m_job_retry \u001b[39m=\u001b[39m job_retry\n\u001b[0;32m-> 1510\u001b[0m \u001b[39msuper\u001b[39;49m(QueryJob, \u001b[39mself\u001b[39;49m)\u001b[39m.\u001b[39;49mresult(retry\u001b[39m=\u001b[39;49mretry, timeout\u001b[39m=\u001b[39;49mtimeout)\n\u001b[1;32m   1512\u001b[0m \u001b[39m# Since the job could already be \"done\" (e.g. got a finished job\u001b[39;00m\n\u001b[1;32m   1513\u001b[0m \u001b[39m# via client.get_job), the superclass call to done() might not\u001b[39;00m\n\u001b[1;32m   1514\u001b[0m \u001b[39m# set the self._query_results cache.\u001b[39;00m\n\u001b[1;32m   1515\u001b[0m \u001b[39mself\u001b[39m\u001b[39m.\u001b[39m_reload_query_results(retry\u001b[39m=\u001b[39mretry, timeout\u001b[39m=\u001b[39mtimeout)\n",
                  "File \u001b[0;32m~/.local/lib/python3.11/site-packages/google/cloud/bigquery/job/base.py:922\u001b[0m, in \u001b[0;36m_AsyncJob.result\u001b[0;34m(self, retry, timeout)\u001b[0m\n\u001b[1;32m    919\u001b[0m     \u001b[39mself\u001b[39m\u001b[39m.\u001b[39m_begin(retry\u001b[39m=\u001b[39mretry, timeout\u001b[39m=\u001b[39mtimeout)\n\u001b[1;32m    921\u001b[0m kwargs \u001b[39m=\u001b[39m {} \u001b[39mif\u001b[39;00m retry \u001b[39mis\u001b[39;00m DEFAULT_RETRY \u001b[39melse\u001b[39;00m {\u001b[39m\"\u001b[39m\u001b[39mretry\u001b[39m\u001b[39m\"\u001b[39m: retry}\n\u001b[0;32m--> 922\u001b[0m \u001b[39mreturn\u001b[39;00m \u001b[39msuper\u001b[39;49m(_AsyncJob, \u001b[39mself\u001b[39;49m)\u001b[39m.\u001b[39;49mresult(timeout\u001b[39m=\u001b[39;49mtimeout, \u001b[39m*\u001b[39;49m\u001b[39m*\u001b[39;49mkwargs)\n",
                  "File \u001b[0;32m~/.local/lib/python3.11/site-packages/google/api_core/future/polling.py:261\u001b[0m, in \u001b[0;36mPollingFuture.result\u001b[0;34m(self, timeout, retry, polling)\u001b[0m\n\u001b[1;32m    256\u001b[0m \u001b[39mself\u001b[39m\u001b[39m.\u001b[39m_blocking_poll(timeout\u001b[39m=\u001b[39mtimeout, retry\u001b[39m=\u001b[39mretry, polling\u001b[39m=\u001b[39mpolling)\n\u001b[1;32m    258\u001b[0m \u001b[39mif\u001b[39;00m \u001b[39mself\u001b[39m\u001b[39m.\u001b[39m_exception \u001b[39mis\u001b[39;00m \u001b[39mnot\u001b[39;00m \u001b[39mNone\u001b[39;00m:\n\u001b[1;32m    259\u001b[0m     \u001b[39m# pylint: disable=raising-bad-type\u001b[39;00m\n\u001b[1;32m    260\u001b[0m     \u001b[39m# Pylint doesn't recognize that this is valid in this case.\u001b[39;00m\n\u001b[0;32m--> 261\u001b[0m     \u001b[39mraise\u001b[39;00m \u001b[39mself\u001b[39m\u001b[39m.\u001b[39m_exception\n\u001b[1;32m    263\u001b[0m \u001b[39mreturn\u001b[39;00m \u001b[39mself\u001b[39m\u001b[39m.\u001b[39m_result\n",
                  "\u001b[0;31mBadRequest\u001b[0m: 400 Not found: Table smartleads-393408:raw_prod_02a960c65cd4468895d3c982a6461644.recommendations_input was not found in location US at [3:1]\n\nLocation: US\nJob ID: fe7ffc2f-1151-4272-999f-fd8f1075ab7f\n"
               ]
            }
         ],
         "source": [
            "help(generalise_data)\n",
            "generalise_data(client, FEATURES, input_table, source_table, TARGET)"
         ]
      },
      {
         "cell_type": "markdown",
         "metadata": {
            "tags": []
         },
         "source": [
            "# Look at / profile your raw data"
         ]
      },
      {
         "cell_type": "markdown",
         "metadata": {},
         "source": [
            "### Number of records in input table"
         ]
      },
      {
         "cell_type": "code",
         "execution_count": null,
         "metadata": {},
         "outputs": [],
         "source": [
            "number_of_records_in_input_table = smartleads.profiling.get_num_rows(client, input_table)\n",
            "number_of_records_in_input_table"
         ]
      },
      {
         "cell_type": "markdown",
         "metadata": {},
         "source": [
            "### Max number of products per customer"
         ]
      },
      {
         "cell_type": "code",
         "execution_count": null,
         "metadata": {},
         "outputs": [],
         "source": [
            "max_number_of_products_per_customer = smartleads.profiling.get_max_products_per_customer(client, input_table)\n",
            "max_number_of_products_per_customer"
         ]
      },
      {
         "cell_type": "markdown",
         "metadata": {},
         "source": [
            "### Frequency count of products"
         ]
      },
      {
         "cell_type": "code",
         "execution_count": null,
         "metadata": {},
         "outputs": [],
         "source": [
            "product_count_df =  smartleads.profiling.get_frequency_product_count(client, input_table)\n",
            "product_count_df"
         ]
      },
      {
         "cell_type": "code",
         "execution_count": null,
         "metadata": {},
         "outputs": [],
         "source": [
            "len(product_count_df)"
         ]
      },
      {
         "cell_type": "code",
         "execution_count": null,
         "metadata": {},
         "outputs": [],
         "source": [
            "import plotly.express as px\n",
            "fig = px.bar(product_count_df, x='product', y='frequency')\n",
            "fig.show()"
         ]
      },
      {
         "cell_type": "markdown",
         "metadata": {},
         "source": [
            "# Sample your data"
         ]
      },
      {
         "cell_type": "code",
         "execution_count": null,
         "metadata": {},
         "outputs": [],
         "source": [
            "# Sample your data manually with code\n",
            "sql = (\n",
            "    f'drop table if exists {sample_table}; '\n",
            "    f'create table {sample_table} as '\n",
            "    f'select * '\n",
            "    f'from {input_table} ' \n",
            "    f'where OBSERVATION_DATE = DATE \\'2020-06-30\\' '\n",
            ")\n",
            "bq.execute_and_wait(client, sql)"
         ]
      },
      {
         "cell_type": "markdown",
         "metadata": {},
         "source": [
            "# Specify your fields"
         ]
      },
      {
         "cell_type": "markdown",
         "metadata": {},
         "source": [
            "## Specify your ID column"
         ]
      },
      {
         "cell_type": "code",
         "execution_count": null,
         "metadata": {},
         "outputs": [],
         "source": [
            "ID_COLUMN = 'COVER_NUMBER'"
         ]
      },
      {
         "cell_type": "markdown",
         "metadata": {},
         "source": [
            "## Columns to keep as is\n",
            "These are columns where you believe you already have a good idea that they're basically right.  \n",
            "They are already categorical, you don't have too many of them and you've already grouped together similar items.  \n",
            "In here, you have the following inputs for each field:\n",
            "* column_name: This is the name of the column in your input data\n",
            "* prefix: This is the text that you want to go in front of the value from the column. So, if your age band is \"18-25\", then use \"age\" as a prefix makes the variable \"age:18-25\". This is required to make the baskets understandable later. Try to keep this as short as possible while retaining as much meaning as possible. Also, keep it lower case. \n",
            "* new_col_name: This is the new column name that BigQuery will use internally. Again, try keep it short and lower case.  "
         ]
      },
      {
         "cell_type": "code",
         "execution_count": null,
         "metadata": {},
         "outputs": [],
         "source": [
            "COLUMNS_TO_KEEP_AS_IS = [\n",
            "  {'column_name': 'AGEBAND','prefix': 'age', 'new_col_name': 'age', \"drop_nulls\": False, \"map_nulls_to\": \"AGE_UNKNOWN\" },\n",
            "  {'column_name': 'GENDER', 'prefix': 'gender', 'new_col_name': 'gender', \"drop_nulls\": False, \"map_nulls_to\": \"other\"},\n",
            "  {'column_name': 'RACE', 'prefix': 'race', 'new_col_name': 'race', \"drop_nulls\": False, \"map_nulls_to\": \"AGE_UNKNOWN\" },\n",
            "  {'column_name': 'MARITAL_STATUS', 'prefix': 'marital', 'new_col_name': 'marital', \"drop_nulls\": False, \"map_nulls_to\": \"unknown\"},\n",
            "  {'column_name': 'BENEFIT_UTILISATION_MAX_BAND', 'prefix': 'util', 'new_col_name': 'util', \"drop_nulls\": False, \"map_nulls_to\": \"unknown\"},\n",
            "  {'column_name': 'EMPLOYER_NAME', 'prefix': 'employer', 'new_col_name': 'employer', \"drop_nulls\": False, \"map_nulls_to\": \"unknown\"},\n",
            "  {'column_name': 'EMPLOYER_GROUP_TYPE', 'prefix': 'grp', 'new_col_name': 'grp', \"drop_nulls\": False, \"map_nulls_to\": \"unknown\"},\n",
            "  {'column_name': 'EMPLOYER_INDUSTRY', 'prefix': 'industry', 'new_col_name': 'industry', \"drop_nulls\": False, \"map_nulls_to\": \"unknown\"}\n",
            "]"
         ]
      },
      {
         "cell_type": "code",
         "execution_count": null,
         "metadata": {},
         "outputs": [],
         "source": [
            "REMAP_CATEGORICAL_COLUMNS = [\n",
            "    {\n",
            "       'column_name': 'EMPLOYER_INDUSTRY', \n",
            "       'prefix':'sector',\n",
            "       'new_col_name': 'sector',\n",
            "       \"drop_nulls\": False,\n",
            "       'categorical_maping': [\n",
            "           {\n",
            "               \"new_catergorical_variable\":\"Government\",\n",
            "               \"mapping_values\": ['Health','Mining ','Food / Restaurants ','Automotive','Insurance ']\n",
            "           }\n",
            "       ]\n",
            "    }\n",
            "]"
         ]
      },
      {
         "cell_type": "markdown",
         "metadata": {},
         "source": [
            "## Ordinal upper limit"
         ]
      },
      {
         "cell_type": "markdown",
         "metadata": {},
         "source": []
      },
      {
         "cell_type": "markdown",
         "metadata": {},
         "source": [
            "These values generally start counting at zero, but need to be capped at a maximum value. \n",
            "So, for example, if someone belongs to a medical scheme, they might have 8 dependents. We would want to group that together as 4+.  \n",
            "* column_name: Name of the column in the input data  \n",
            "* upper_limit: Cut off point for the values  \n",
            "* prefix: This is the text that you want to go in front of the value from the column. So, if your age band is \"18-25\", then use \"age\" as a prefix makes the variable \"age:18-25\". This is required to make the baskets understandable later. Try to keep this as short as possible while retaining as much meaning as possible. Also, keep it lower case. \n",
            "* new_col_name: This is the new column name that BigQuery will use internally. Again, try keep it short and lower case.  "
         ]
      },
      {
         "cell_type": "code",
         "execution_count": null,
         "metadata": {},
         "outputs": [],
         "source": [
            "ORDINAL_UPPER_LIMIT = [\n",
            "  {'column_name': 'DEPENDENT_COUNT_ADULT', 'upper_limit': 4, 'prefix': 'adult_dep', 'new_col_name': 'adult_dep', \"drop_nulls\": False},\n",
            "  {'column_name': 'DEPENDENT_COUNT_CHILD', 'upper_limit': 4, 'prefix': 'child_dep', 'new_col_name': 'child_dep',\"drop_nulls\": False, \"map_nulls_to\": \"unknown\"},\n",
            "  {'column_name': 'CHRONIC_CONDITION_COUNT', 'upper_limit': 4, 'prefix': 'chronic_count', 'new_col_name': 'chronic_count',\"drop_nulls\": False, \"map_nulls_to\": \"unknown\"},\n",
            "]"
         ]
      },
      {
         "cell_type": "markdown",
         "metadata": {},
         "source": [
            "## Manual columns"
         ]
      },
      {
         "cell_type": "markdown",
         "metadata": {},
         "source": [
            "The manual columns refer to columns where you provide BigQuery code to manually add the columns.\n",
            "* sql: The sql code to execute.  \n",
            "* new_col_name: The new column name to use.  "
         ]
      },
      {
         "cell_type": "code",
         "execution_count": null,
         "metadata": {},
         "outputs": [],
         "source": [
            "MANUAL_COLUMNS = [\n",
            "    {\n",
            "        'sql': \n",
            "        r'case '\n",
            "        r'   when CLAIMS_NOT_PAID_ROLLING_12MONTH_PERCENTAGE is Null then \"unpaid_claims: zz: Null\" '\n",
            "        r'   when CLAIMS_NOT_PAID_ROLLING_12MONTH_PERCENTAGE < 0 then \"unpaid_claims: 00: Negative\" '\n",
            "        r'   when CLAIMS_NOT_PAID_ROLLING_12MONTH_PERCENTAGE < 0.05 then \"unpaid_claims: 01: 0% - 5%\" '\n",
            "        r'   when CLAIMS_NOT_PAID_ROLLING_12MONTH_PERCENTAGE < 0.1 then \"unpaid_claims: 02: 5% - 10%\" '\n",
            "        r'   else \"unpaid_claims: 03: 10% + \" '\n",
            "        r'end as unpaid_claims ',\n",
            "        'new_col_name': 'unpaid_claims'\n",
            "    }\n",
            "]"
         ]
      },
      {
         "cell_type": "markdown",
         "metadata": {},
         "source": [
            "# Array columns"
         ]
      },
      {
         "cell_type": "markdown",
         "metadata": {},
         "source": [
            "The array columns here actually refer to a comma separated string. If something is already specified as an array, you would keep the column as is. However, if it is a comma separated string, these values will be decomposed into their components.\n",
            "* column_name: This is the name of the column in your input data\n",
            "* prefix: This is the text that you want to go in front of the value from the column. So, if your age band is \"18-25\", then use \"age\" as a prefix makes the variable \"age:18-25\". This is required to make the baskets understandable later. Try to keep this as short as possible while retaining as much meaning as possible. Also, keep it lower case. \n",
            "* new_col_name: This is the new column name that BigQuery will use internally. Again, try keep it short and lower case.  "
         ]
      },
      {
         "cell_type": "markdown",
         "metadata": {},
         "source": []
      },
      {
         "cell_type": "code",
         "execution_count": null,
         "metadata": {},
         "outputs": [],
         "source": [
            "ARRAY_COLUMNS = [\n",
            "    {'column_name': 'CHRONIC_CONDITION_LIST_UNIQUE', 'prefix': 'ccl', 'new_col_name': 'ccl', \"drop_nulls\": False, \"map_nulls_to\": \"unknown\"}\n",
            "]"
         ]
      },
      {
         "cell_type": "markdown",
         "metadata": {},
         "source": [
            "# Engineer your data"
         ]
      },
      {
         "cell_type": "code",
         "execution_count": null,
         "metadata": {},
         "outputs": [],
         "source": [
            "DEFAULT_MAP_NULLS_TO = \"zz:Null\"\n",
            "preprocessor =  smartleads.preprocessing.Preprocessor(\n",
            "    ID_COLUMN,\n",
            "    REMAP_CATEGORICAL_COLUMNS,\n",
            "    COLUMNS_TO_KEEP_AS_IS,\n",
            "    ORDINAL_UPPER_LIMIT,\n",
            "    MANUAL_COLUMNS,\n",
            "    ARRAY_COLUMNS,\n",
            "    sample_table,\n",
            "    engineered_table,\n",
            "    DEFAULT_MAP_NULLS_TO,\n",
            ")\n",
            "sql = preprocessor.get_engineered_sql()\n",
            "smartleads.util.bq.execute_and_wait(client, sql)"
         ]
      },
      {
         "cell_type": "markdown",
         "metadata": {},
         "source": [
            "# Calculate support"
         ]
      },
      {
         "cell_type": "markdown",
         "metadata": {},
         "source": [
            "### Calculate Feature Long Table"
         ]
      },
      {
         "cell_type": "code",
         "execution_count": null,
         "metadata": {},
         "outputs": [],
         "source": [
            "sql = smartleads.support.get_long_table_sql(\n",
            "    long_table,\n",
            "    engineered_table,\n",
            "    COLUMNS_TO_KEEP_AS_IS,\n",
            "    REMAP_CATEGORICAL_COLUMNS,\n",
            "    ORDINAL_UPPER_LIMIT,\n",
            "    MANUAL_COLUMNS,\n",
            "    ARRAY_COLUMNS,\n",
            "    TARGET_PREFIX\n",
            ")\n",
            "\n",
            "smartleads.util.bq.execute_and_wait(client, sql)"
         ]
      },
      {
         "cell_type": "code",
         "execution_count": null,
         "metadata": {},
         "outputs": [],
         "source": [
            "sql = smartleads.support.get_support_sql(\n",
            "    long_table, \n",
            "    support_table, \n",
            "    sample_table,\n",
            "    MIN_SUPPORT,\n",
            "    TARGET_PREFIX\n",
            ")\n",
            "\n",
            "\n",
            "smartleads.util.bq.execute_and_wait(client, sql)"
         ]
      },
      {
         "cell_type": "code",
         "execution_count": null,
         "metadata": {},
         "outputs": [],
         "source": [
            "support_distribution = smartleads.support.get_support_distribution(\n",
            "    client,\n",
            "    support_table,\n",
            "    QUANTILES_FOR_PLOTS\n",
            ")"
         ]
      },
      {
         "cell_type": "code",
         "execution_count": null,
         "metadata": {},
         "outputs": [],
         "source": [
            "support_distribution"
         ]
      },
      {
         "cell_type": "markdown",
         "metadata": {},
         "source": [
            "Based on this, you can see that you get rid of half of your data by requiring tiny support.\n",
            "I would say we could confidently say MIN_SUPPORT = 0.001"
         ]
      },
      {
         "cell_type": "code",
         "execution_count": null,
         "metadata": {},
         "outputs": [],
         "source": [
            "support_distribution_products = smartleads.support.get_support_distribution_products(\n",
            "    client,\n",
            "    support_table,\n",
            "    TARGET_PREFIX\n",
            ")"
         ]
      },
      {
         "cell_type": "code",
         "execution_count": null,
         "metadata": {},
         "outputs": [],
         "source": [
            "support_distribution_products"
         ]
      },
      {
         "cell_type": "markdown",
         "metadata": {},
         "source": [
            "Note that we forced all products to be included above even though the support is so small"
         ]
      },
      {
         "cell_type": "markdown",
         "metadata": {},
         "source": [
            "# Aggregating features to customer level"
         ]
      },
      {
         "cell_type": "code",
         "execution_count": null,
         "metadata": {},
         "outputs": [],
         "source": [
            "sql = smartleads.id_agg.get_id_agg_sql(\n",
            "    engineered_table, support_table, id_agg_table, \n",
            "    COLUMNS_TO_KEEP_AS_IS, REMAP_CATEGORICAL_COLUMNS, ORDINAL_UPPER_LIMIT, MANUAL_COLUMNS, ARRAY_COLUMNS,\n",
            "    SCORING_CHUNK_MOD,\n",
            "    TARGET_PREFIX\n",
            ")\n",
            "smartleads.util.bq.execute_and_wait(client, sql)"
         ]
      },
      {
         "cell_type": "markdown",
         "metadata": {},
         "source": [
            "# Counting the number of times combinations occur"
         ]
      },
      {
         "cell_type": "code",
         "execution_count": null,
         "metadata": {},
         "outputs": [],
         "source": [
            "sql = smartleads.combo_count.get_count_by_combination(1000, id_agg_table, combo_count_table)\n",
            "smartleads.util.bq.execute_and_wait(client, sql)"
         ]
      },
      {
         "cell_type": "markdown",
         "metadata": {},
         "source": [
            "# Generate all combinations"
         ]
      },
      {
         "cell_type": "code",
         "execution_count": null,
         "metadata": {},
         "outputs": [],
         "source": [
            "min_features_per_id, max_features_per_id = \\\n",
            "    smartleads.combo_generation.get_feature_range(client, combo_count_table)"
         ]
      },
      {
         "cell_type": "code",
         "execution_count": null,
         "metadata": {},
         "outputs": [],
         "source": [
            "smartleads.util.bq.clear_old_runs(client, f'{PROJECT_ID}.{TEMPORARY_DATASET}', [''])"
         ]
      },
      {
         "cell_type": "code",
         "execution_count": null,
         "metadata": {},
         "outputs": [],
         "source": [
            "smartleads.combo_generation.generate_all_combinations(\n",
            "    client, min_features_per_id, max_features_per_id,\n",
            "    MIN_FEATURES_IN_RULE, MAX_FEATURES_IN_RULE,\n",
            "    combo_count_table, QUERIES_PER_CHUNK,\n",
            "    combo_temp_format\n",
            ")"
         ]
      },
      {
         "cell_type": "markdown",
         "metadata": {},
         "source": [
            "# Calculate lift"
         ]
      },
      {
         "cell_type": "code",
         "execution_count": null,
         "metadata": {},
         "outputs": [],
         "source": [
            "sql = smartleads.lift.get_lift(\n",
            "    lift_table, combo_temp_format, support_table, \n",
            "    MIN_CONFIDENCE, MIN_OBS, MIN_LIFT,\n",
            "    TARGET_PREFIX)\n",
            "smartleads.util.bq.execute_and_wait(client, sql)"
         ]
      },
      {
         "cell_type": "code",
         "execution_count": null,
         "metadata": {},
         "outputs": [],
         "source": [
            "associations_df = smartleads.lift.get_associations_df(\n",
            "    client,\n",
            "    lift_table\n",
            ")"
         ]
      },
      {
         "cell_type": "code",
         "execution_count": null,
         "metadata": {},
         "outputs": [],
         "source": [
            "associations_df.style.format(thousands = ' ')"
         ]
      },
      {
         "cell_type": "code",
         "execution_count": null,
         "metadata": {},
         "outputs": [],
         "source": [
            "associations_df.sum()"
         ]
      },
      {
         "cell_type": "code",
         "execution_count": null,
         "metadata": {},
         "outputs": [],
         "source": [
            "sql = smartleads.lift.get_lift_filtered(\n",
            "    lift_table, lift_filtered_table, MAX_RULES_PER_PRODUCT\n",
            ")\n",
            "smartleads.util.bq.execute_and_wait(client, sql)"
         ]
      },
      {
         "cell_type": "markdown",
         "metadata": {},
         "source": [
            "## Insights"
         ]
      },
      {
         "cell_type": "code",
         "execution_count": null,
         "metadata": {},
         "outputs": [],
         "source": [
            "sample_associations = get_sample_associations_df(client,lift_filtered_table)\n",
            "sample_associations"
         ]
      },
      {
         "cell_type": "code",
         "execution_count": null,
         "metadata": {},
         "outputs": [],
         "source": [
            "sample_associations.loc[0,:].to_dict()"
         ]
      },
      {
         "cell_type": "code",
         "execution_count": null,
         "metadata": {},
         "outputs": [],
         "source": [
            "target_df = get_target_dataframe(client,lift_filtered_table)\n",
            "target_df"
         ]
      },
      {
         "cell_type": "code",
         "execution_count": null,
         "metadata": {},
         "outputs": [],
         "source": [
            "included_df = get_included_dataframe(client, lift_table)\n",
            "included_df"
         ]
      },
      {
         "cell_type": "code",
         "execution_count": null,
         "metadata": {},
         "outputs": [],
         "source": [
            "lift_distribution = get_lift_distribution_dataframe(\n",
            "    client,\n",
            "    lift_filtered_table,\n",
            "    QUANTILES_FOR_PLOTS\n",
            ")\n",
            "lift_distribution"
         ]
      },
      {
         "cell_type": "code",
         "execution_count": null,
         "metadata": {},
         "outputs": [],
         "source": [
            "confidence_distribution = get_confidence_distribution_dataframe(\n",
            "    client,\n",
            "    lift_table,\n",
            "    QUANTILES_FOR_PLOTS\n",
            ")\n",
            "confidence_distribution"
         ]
      },
      {
         "cell_type": "code",
         "execution_count": null,
         "metadata": {},
         "outputs": [],
         "source": [
            "support_distribution = get_support_distribution_dataframe(\n",
            "    client,\n",
            "    lift_table,\n",
            "    QUANTILES_FOR_PLOTS\n",
            ")\n",
            "support_distribution"
         ]
      },
      {
         "cell_type": "markdown",
         "metadata": {},
         "source": [
            "# Scoring"
         ]
      },
      {
         "cell_type": "code",
         "execution_count": null,
         "metadata": {},
         "outputs": [],
         "source": [
            "sql = (\n",
            "    f'DROP TABLE IF EXISTS {input_score_table}; '\n",
            "    f'CREATE table {input_score_table} as '\n",
            "    f'SELECT * '\n",
            "    f'FROM {input_table} '\n",
            "    f'where OBSERVATION_DATE = DATE \\'2020-06-30\\' '\n",
            ")\n",
            "\n",
            "bq.execute_and_wait(client, sql)"
         ]
      },
      {
         "cell_type": "markdown",
         "metadata": {},
         "source": [
            "# Profile scoring data"
         ]
      },
      {
         "cell_type": "code",
         "execution_count": null,
         "metadata": {},
         "outputs": [],
         "source": [
            "number_of_records_in_input_score_table = smartleads.profiling.get_num_rows(client, input_score_table)\n",
            "number_of_records_in_input_score_table"
         ]
      },
      {
         "cell_type": "markdown",
         "metadata": {},
         "source": [
            "# Engineer your data"
         ]
      },
      {
         "cell_type": "code",
         "execution_count": null,
         "metadata": {},
         "outputs": [],
         "source": [
            "DEFAULT_MAP_NULLS_TO = \"zz:Null\"\n",
            "preprocessor =  smartleads.preprocessing.Preprocessor(\n",
            "    ID_COLUMN,\n",
            "    REMAP_CATEGORICAL_COLUMNS,\n",
            "    COLUMNS_TO_KEEP_AS_IS,\n",
            "    ORDINAL_UPPER_LIMIT,\n",
            "    MANUAL_COLUMNS,\n",
            "    ARRAY_COLUMNS,\n",
            "    input_score_table,\n",
            "    engineered_score_table,\n",
            "    DEFAULT_MAP_NULLS_TO,\n",
            ")\n",
            "sql = preprocessor.get_engineered_sql()\n",
            "smartleads.util.bq.execute_and_wait(client, sql)"
         ]
      },
      {
         "cell_type": "code",
         "execution_count": null,
         "metadata": {},
         "outputs": [],
         "source": [
            "sql = smartleads.id_agg.get_id_agg_sql(\n",
            "    engineered_score_table, support_table, id_agg_score_table, \n",
            "    COLUMNS_TO_KEEP_AS_IS, REMAP_CATEGORICAL_COLUMNS, ORDINAL_UPPER_LIMIT, MANUAL_COLUMNS, ARRAY_COLUMNS,\n",
            "    SCORING_CHUNK_MOD,\n",
            "    TARGET_PREFIX\n",
            ")\n",
            "smartleads.util.bq.execute_and_wait(client, sql)"
         ]
      },
      {
         "cell_type": "code",
         "execution_count": null,
         "metadata": {},
         "outputs": [],
         "source": [
            "smartleads.util.bq.clear_old_runs(client, f'{PROJECT_ID}.{TEMPORARY_DATASET}', [''])"
         ]
      },
      {
         "cell_type": "code",
         "execution_count": null,
         "metadata": {},
         "outputs": [],
         "source": [
            "jobs = smartleads.score.get_fully_scored(\n",
            "    client,\n",
            "    fully_scored_table,\n",
            "    id_agg_score_table,\n",
            "    lift_filtered_table,\n",
            "    scoring_temp_table_format,\n",
            "    SCORING_CHUNK_MOD\n",
            ")"
         ]
      },
      {
         "cell_type": "markdown",
         "metadata": {},
         "source": []
      },
      {
         "cell_type": "code",
         "execution_count": null,
         "metadata": {},
         "outputs": [],
         "source": [
            "\n",
            "number_of_scored_customers = smartleads.score.get_number_of_scored_customers(\n",
            "    client, \n",
            "    fully_scored_table\n",
            ")"
         ]
      },
      {
         "cell_type": "code",
         "execution_count": null,
         "metadata": {},
         "outputs": [],
         "source": [
            "number_of_scored_customers"
         ]
      },
      {
         "cell_type": "code",
         "execution_count": null,
         "metadata": {},
         "outputs": [],
         "source": [
            "\n",
            "percentage_of_scored_customers_per_rule = smartleads.score.get_percentage_of_scored_customers_per_rule(\n",
            "    client,\n",
            "    number_of_scored_customers,\n",
            "    fully_scored_table\n",
            ")"
         ]
      },
      {
         "cell_type": "code",
         "execution_count": null,
         "metadata": {},
         "outputs": [],
         "source": [
            "percentage_of_scored_customers_per_rule"
         ]
      },
      {
         "cell_type": "code",
         "execution_count": null,
         "metadata": {},
         "outputs": [],
         "source": [
            "sql = smartleads.score.get_top_products(top_products_table, fully_scored_table, MAX_OPTIONS_PER_CUSTOMER)"
         ]
      },
      {
         "cell_type": "code",
         "execution_count": null,
         "metadata": {},
         "outputs": [],
         "source": [
            "smartleads.util.bq.execute_and_wait(client, sql)"
         ]
      },
      {
         "cell_type": "code",
         "execution_count": 20,
         "metadata": {},
         "outputs": [],
         "source": [
            "right_option_dataframe = smartleads.score.get_right_option_dataframe(\n",
            "    client,\n",
            "    top_products_table,\n",
            "    TARGET_PREFIX\n",
            ")"
         ]
      },
      {
         "cell_type": "code",
         "execution_count": 21,
         "metadata": {},
         "outputs": [
            {
               "data": {
                  "text/html": [
                     "<style type=\"text/css\">\n",
                     "#T_20efa_row0_col0, #T_20efa_row0_col2, #T_20efa_row0_col3, #T_20efa_row0_col4, #T_20efa_row0_col5, #T_20efa_row0_col6, #T_20efa_row0_col7, #T_20efa_row0_col8, #T_20efa_row0_col9, #T_20efa_row1_col0, #T_20efa_row1_col2, #T_20efa_row1_col3, #T_20efa_row1_col4, #T_20efa_row1_col5, #T_20efa_row1_col6, #T_20efa_row1_col7, #T_20efa_row1_col8, #T_20efa_row1_col9, #T_20efa_row2_col2, #T_20efa_row2_col4, #T_20efa_row3_col0, #T_20efa_row3_col2, #T_20efa_row3_col3, #T_20efa_row3_col4, #T_20efa_row3_col5, #T_20efa_row3_col6, #T_20efa_row3_col7, #T_20efa_row3_col8, #T_20efa_row3_col9, #T_20efa_row5_col2, #T_20efa_row5_col4, #T_20efa_row6_col0, #T_20efa_row6_col2, #T_20efa_row6_col3, #T_20efa_row6_col4, #T_20efa_row6_col5, #T_20efa_row6_col6, #T_20efa_row6_col7, #T_20efa_row6_col8, #T_20efa_row6_col9, #T_20efa_row7_col2, #T_20efa_row8_col1, #T_20efa_row8_col2, #T_20efa_row8_col4, #T_20efa_row9_col0, #T_20efa_row9_col2, #T_20efa_row9_col3, #T_20efa_row9_col4, #T_20efa_row9_col5, #T_20efa_row9_col6, #T_20efa_row9_col7, #T_20efa_row9_col8, #T_20efa_row10_col0, #T_20efa_row10_col2, #T_20efa_row10_col3, #T_20efa_row10_col4, #T_20efa_row10_col5, #T_20efa_row10_col6, #T_20efa_row10_col7, #T_20efa_row10_col8, #T_20efa_row10_col9, #T_20efa_row11_col0, #T_20efa_row11_col2, #T_20efa_row11_col3, #T_20efa_row11_col4, #T_20efa_row11_col5, #T_20efa_row11_col6, #T_20efa_row11_col7, #T_20efa_row11_col8, #T_20efa_row11_col9, #T_20efa_row12_col0, #T_20efa_row12_col2, #T_20efa_row12_col4, #T_20efa_row12_col5, #T_20efa_row13_col2, #T_20efa_row13_col3, #T_20efa_row14_col0, #T_20efa_row14_col2, #T_20efa_row14_col3, #T_20efa_row14_col4, #T_20efa_row14_col5, #T_20efa_row14_col6, #T_20efa_row14_col7, #T_20efa_row14_col8, #T_20efa_row15_col0, #T_20efa_row15_col2, #T_20efa_row15_col3, #T_20efa_row15_col4, #T_20efa_row15_col5, #T_20efa_row15_col6, #T_20efa_row15_col7, #T_20efa_row15_col8, #T_20efa_row15_col9 {\n",
                     "  background-color: #f7fbff;\n",
                     "  color: #000000;\n",
                     "}\n",
                     "#T_20efa_row0_col1, #T_20efa_row1_col1, #T_20efa_row2_col0, #T_20efa_row3_col1, #T_20efa_row4_col2, #T_20efa_row5_col3, #T_20efa_row6_col1, #T_20efa_row7_col4, #T_20efa_row8_col5, #T_20efa_row10_col1, #T_20efa_row11_col1, #T_20efa_row12_col7, #T_20efa_row13_col6, #T_20efa_row13_col8, #T_20efa_row14_col9, #T_20efa_row15_col1 {\n",
                     "  background-color: #6aaed6;\n",
                     "  color: #f1f1f1;\n",
                     "}\n",
                     "#T_20efa_row2_col1 {\n",
                     "  background-color: #e3eef8;\n",
                     "  color: #000000;\n",
                     "}\n",
                     "#T_20efa_row2_col3, #T_20efa_row8_col9, #T_20efa_row12_col6, #T_20efa_row12_col9 {\n",
                     "  background-color: #eef5fc;\n",
                     "  color: #000000;\n",
                     "}\n",
                     "#T_20efa_row2_col5, #T_20efa_row12_col1 {\n",
                     "  background-color: #f5fafe;\n",
                     "  color: #000000;\n",
                     "}\n",
                     "#T_20efa_row2_col6, #T_20efa_row4_col9 {\n",
                     "  background-color: #d0e2f2;\n",
                     "  color: #000000;\n",
                     "}\n",
                     "#T_20efa_row2_col7 {\n",
                     "  background-color: #d9e7f5;\n",
                     "  color: #000000;\n",
                     "}\n",
                     "#T_20efa_row2_col8, #T_20efa_row5_col1 {\n",
                     "  background-color: #f2f8fd;\n",
                     "  color: #000000;\n",
                     "}\n",
                     "#T_20efa_row2_col9 {\n",
                     "  background-color: #dce9f6;\n",
                     "  color: #000000;\n",
                     "}\n",
                     "#T_20efa_row4_col0 {\n",
                     "  background-color: #f0f6fd;\n",
                     "  color: #000000;\n",
                     "}\n",
                     "#T_20efa_row4_col1 {\n",
                     "  background-color: #e6f0f9;\n",
                     "  color: #000000;\n",
                     "}\n",
                     "#T_20efa_row4_col3, #T_20efa_row5_col0 {\n",
                     "  background-color: #edf4fc;\n",
                     "  color: #000000;\n",
                     "}\n",
                     "#T_20efa_row4_col4, #T_20efa_row5_col7, #T_20efa_row5_col9, #T_20efa_row7_col1, #T_20efa_row13_col5 {\n",
                     "  background-color: #eaf2fb;\n",
                     "  color: #000000;\n",
                     "}\n",
                     "#T_20efa_row4_col5 {\n",
                     "  background-color: #e2edf8;\n",
                     "  color: #000000;\n",
                     "}\n",
                     "#T_20efa_row4_col6 {\n",
                     "  background-color: #c7dcef;\n",
                     "  color: #000000;\n",
                     "}\n",
                     "#T_20efa_row4_col7 {\n",
                     "  background-color: #ddeaf7;\n",
                     "  color: #000000;\n",
                     "}\n",
                     "#T_20efa_row4_col8 {\n",
                     "  background-color: #e3eef9;\n",
                     "  color: #000000;\n",
                     "}\n",
                     "#T_20efa_row5_col5, #T_20efa_row5_col8, #T_20efa_row13_col4, #T_20efa_row13_col9 {\n",
                     "  background-color: #e9f2fa;\n",
                     "  color: #000000;\n",
                     "}\n",
                     "#T_20efa_row5_col6 {\n",
                     "  background-color: #eaf3fb;\n",
                     "  color: #000000;\n",
                     "}\n",
                     "#T_20efa_row7_col0, #T_20efa_row12_col8, #T_20efa_row13_col1 {\n",
                     "  background-color: #f5f9fe;\n",
                     "  color: #000000;\n",
                     "}\n",
                     "#T_20efa_row7_col3, #T_20efa_row8_col0, #T_20efa_row8_col7 {\n",
                     "  background-color: #f2f7fd;\n",
                     "  color: #000000;\n",
                     "}\n",
                     "#T_20efa_row7_col5 {\n",
                     "  background-color: #d9e8f5;\n",
                     "  color: #000000;\n",
                     "}\n",
                     "#T_20efa_row7_col6 {\n",
                     "  background-color: #bfd8ed;\n",
                     "  color: #000000;\n",
                     "}\n",
                     "#T_20efa_row7_col7 {\n",
                     "  background-color: #e8f1fa;\n",
                     "  color: #000000;\n",
                     "}\n",
                     "#T_20efa_row7_col8 {\n",
                     "  background-color: #cee0f2;\n",
                     "  color: #000000;\n",
                     "}\n",
                     "#T_20efa_row7_col9 {\n",
                     "  background-color: #dbe9f6;\n",
                     "  color: #000000;\n",
                     "}\n",
                     "#T_20efa_row8_col3 {\n",
                     "  background-color: #e5eff9;\n",
                     "  color: #000000;\n",
                     "}\n",
                     "#T_20efa_row8_col6 {\n",
                     "  background-color: #ebf3fb;\n",
                     "  color: #000000;\n",
                     "}\n",
                     "#T_20efa_row8_col8 {\n",
                     "  background-color: #e4eff9;\n",
                     "  color: #000000;\n",
                     "}\n",
                     "#T_20efa_row9_col1 {\n",
                     "  background-color: #82bbdb;\n",
                     "  color: #000000;\n",
                     "}\n",
                     "#T_20efa_row9_col9 {\n",
                     "  background-color: #e0ecf8;\n",
                     "  color: #000000;\n",
                     "}\n",
                     "#T_20efa_row12_col3 {\n",
                     "  background-color: #f3f8fe;\n",
                     "  color: #000000;\n",
                     "}\n",
                     "#T_20efa_row13_col0 {\n",
                     "  background-color: #f6faff;\n",
                     "  color: #000000;\n",
                     "}\n",
                     "#T_20efa_row13_col7 {\n",
                     "  background-color: #f1f7fd;\n",
                     "  color: #000000;\n",
                     "}\n",
                     "#T_20efa_row14_col1 {\n",
                     "  background-color: #c7dbef;\n",
                     "  color: #000000;\n",
                     "}\n",
                     "</style>\n",
                     "<table id=\"T_20efa\">\n",
                     "  <thead>\n",
                     "    <tr>\n",
                     "      <th class=\"index_name level0\" >rule_option</th>\n",
                     "      <th id=\"T_20efa_level0_col0\" class=\"col_heading level0 col0\" >Copper Core</th>\n",
                     "      <th id=\"T_20efa_level0_col1\" class=\"col_heading level0 col1\" >Essential</th>\n",
                     "      <th id=\"T_20efa_level0_col2\" class=\"col_heading level0 col2\" >Gold Ascend</th>\n",
                     "      <th id=\"T_20efa_level0_col3\" class=\"col_heading level0 col3\" >Gold Ascend EDO</th>\n",
                     "      <th id=\"T_20efa_level0_col4\" class=\"col_heading level0 col4\" >Platinum Enhanced</th>\n",
                     "      <th id=\"T_20efa_level0_col5\" class=\"col_heading level0 col5\" >Platinum Enhanced EDO</th>\n",
                     "      <th id=\"T_20efa_level0_col6\" class=\"col_heading level0 col6\" >Plus</th>\n",
                     "      <th id=\"T_20efa_level0_col7\" class=\"col_heading level0 col7\" >Silver Saver</th>\n",
                     "      <th id=\"T_20efa_level0_col8\" class=\"col_heading level0 col8\" >Titanium Executive</th>\n",
                     "      <th id=\"T_20efa_level0_col9\" class=\"col_heading level0 col9\" >Value</th>\n",
                     "    </tr>\n",
                     "    <tr>\n",
                     "      <th class=\"index_name level0\" >customer_option</th>\n",
                     "      <th class=\"blank col0\" >&nbsp;</th>\n",
                     "      <th class=\"blank col1\" >&nbsp;</th>\n",
                     "      <th class=\"blank col2\" >&nbsp;</th>\n",
                     "      <th class=\"blank col3\" >&nbsp;</th>\n",
                     "      <th class=\"blank col4\" >&nbsp;</th>\n",
                     "      <th class=\"blank col5\" >&nbsp;</th>\n",
                     "      <th class=\"blank col6\" >&nbsp;</th>\n",
                     "      <th class=\"blank col7\" >&nbsp;</th>\n",
                     "      <th class=\"blank col8\" >&nbsp;</th>\n",
                     "      <th class=\"blank col9\" >&nbsp;</th>\n",
                     "    </tr>\n",
                     "  </thead>\n",
                     "  <tbody>\n",
                     "    <tr>\n",
                     "      <th id=\"T_20efa_level0_row0\" class=\"row_heading level0 row0\" >Access</th>\n",
                     "      <td id=\"T_20efa_row0_col0\" class=\"data row0 col0\" >0.00%</td>\n",
                     "      <td id=\"T_20efa_row0_col1\" class=\"data row0 col1\" >100.00%</td>\n",
                     "      <td id=\"T_20efa_row0_col2\" class=\"data row0 col2\" >0.00%</td>\n",
                     "      <td id=\"T_20efa_row0_col3\" class=\"data row0 col3\" >0.00%</td>\n",
                     "      <td id=\"T_20efa_row0_col4\" class=\"data row0 col4\" >0.00%</td>\n",
                     "      <td id=\"T_20efa_row0_col5\" class=\"data row0 col5\" >0.00%</td>\n",
                     "      <td id=\"T_20efa_row0_col6\" class=\"data row0 col6\" >0.00%</td>\n",
                     "      <td id=\"T_20efa_row0_col7\" class=\"data row0 col7\" >0.00%</td>\n",
                     "      <td id=\"T_20efa_row0_col8\" class=\"data row0 col8\" >0.00%</td>\n",
                     "      <td id=\"T_20efa_row0_col9\" class=\"data row0 col9\" >0.00%</td>\n",
                     "    </tr>\n",
                     "    <tr>\n",
                     "      <th id=\"T_20efa_level0_row1\" class=\"row_heading level0 row1\" >Affordable Care</th>\n",
                     "      <td id=\"T_20efa_row1_col0\" class=\"data row1 col0\" >0.00%</td>\n",
                     "      <td id=\"T_20efa_row1_col1\" class=\"data row1 col1\" >100.00%</td>\n",
                     "      <td id=\"T_20efa_row1_col2\" class=\"data row1 col2\" >0.00%</td>\n",
                     "      <td id=\"T_20efa_row1_col3\" class=\"data row1 col3\" >0.00%</td>\n",
                     "      <td id=\"T_20efa_row1_col4\" class=\"data row1 col4\" >0.00%</td>\n",
                     "      <td id=\"T_20efa_row1_col5\" class=\"data row1 col5\" >0.00%</td>\n",
                     "      <td id=\"T_20efa_row1_col6\" class=\"data row1 col6\" >0.00%</td>\n",
                     "      <td id=\"T_20efa_row1_col7\" class=\"data row1 col7\" >0.00%</td>\n",
                     "      <td id=\"T_20efa_row1_col8\" class=\"data row1 col8\" >0.00%</td>\n",
                     "      <td id=\"T_20efa_row1_col9\" class=\"data row1 col9\" >0.00%</td>\n",
                     "    </tr>\n",
                     "    <tr>\n",
                     "      <th id=\"T_20efa_level0_row2\" class=\"row_heading level0 row2\" >Copper Core</th>\n",
                     "      <td id=\"T_20efa_row2_col0\" class=\"data row2 col0\" >22.31%</td>\n",
                     "      <td id=\"T_20efa_row2_col1\" class=\"data row2 col1\" >24.45%</td>\n",
                     "      <td id=\"T_20efa_row2_col2\" class=\"data row2 col2\" >0.00%</td>\n",
                     "      <td id=\"T_20efa_row2_col3\" class=\"data row2 col3\" >4.97%</td>\n",
                     "      <td id=\"T_20efa_row2_col4\" class=\"data row2 col4\" >0.00%</td>\n",
                     "      <td id=\"T_20efa_row2_col5\" class=\"data row2 col5\" >1.34%</td>\n",
                     "      <td id=\"T_20efa_row2_col6\" class=\"data row2 col6\" >4.32%</td>\n",
                     "      <td id=\"T_20efa_row2_col7\" class=\"data row2 col7\" >26.08%</td>\n",
                     "      <td id=\"T_20efa_row2_col8\" class=\"data row2 col8\" >3.26%</td>\n",
                     "      <td id=\"T_20efa_row2_col9\" class=\"data row2 col9\" >13.28%</td>\n",
                     "    </tr>\n",
                     "    <tr>\n",
                     "      <th id=\"T_20efa_level0_row3\" class=\"row_heading level0 row3\" >Essential</th>\n",
                     "      <td id=\"T_20efa_row3_col0\" class=\"data row3 col0\" >0.00%</td>\n",
                     "      <td id=\"T_20efa_row3_col1\" class=\"data row3 col1\" >100.00%</td>\n",
                     "      <td id=\"T_20efa_row3_col2\" class=\"data row3 col2\" >0.00%</td>\n",
                     "      <td id=\"T_20efa_row3_col3\" class=\"data row3 col3\" >0.00%</td>\n",
                     "      <td id=\"T_20efa_row3_col4\" class=\"data row3 col4\" >0.00%</td>\n",
                     "      <td id=\"T_20efa_row3_col5\" class=\"data row3 col5\" >0.00%</td>\n",
                     "      <td id=\"T_20efa_row3_col6\" class=\"data row3 col6\" >0.00%</td>\n",
                     "      <td id=\"T_20efa_row3_col7\" class=\"data row3 col7\" >0.00%</td>\n",
                     "      <td id=\"T_20efa_row3_col8\" class=\"data row3 col8\" >0.00%</td>\n",
                     "      <td id=\"T_20efa_row3_col9\" class=\"data row3 col9\" >0.00%</td>\n",
                     "    </tr>\n",
                     "    <tr>\n",
                     "      <th id=\"T_20efa_level0_row4\" class=\"row_heading level0 row4\" >Gold Ascend</th>\n",
                     "      <td id=\"T_20efa_row4_col0\" class=\"data row4 col0\" >1.73%</td>\n",
                     "      <td id=\"T_20efa_row4_col1\" class=\"data row4 col1\" >20.86%</td>\n",
                     "      <td id=\"T_20efa_row4_col2\" class=\"data row4 col2\" >0.10%</td>\n",
                     "      <td id=\"T_20efa_row4_col3\" class=\"data row4 col3\" >5.25%</td>\n",
                     "      <td id=\"T_20efa_row4_col4\" class=\"data row4 col4\" >0.32%</td>\n",
                     "      <td id=\"T_20efa_row4_col5\" class=\"data row4 col5\" >13.30%</td>\n",
                     "      <td id=\"T_20efa_row4_col6\" class=\"data row4 col6\" >5.37%</td>\n",
                     "      <td id=\"T_20efa_row4_col7\" class=\"data row4 col7\" >22.27%</td>\n",
                     "      <td id=\"T_20efa_row4_col8\" class=\"data row4 col8\" >11.89%</td>\n",
                     "      <td id=\"T_20efa_row4_col9\" class=\"data row4 col9\" >18.90%</td>\n",
                     "    </tr>\n",
                     "    <tr>\n",
                     "      <th id=\"T_20efa_level0_row5\" class=\"row_heading level0 row5\" >Gold Ascend EDO</th>\n",
                     "      <td id=\"T_20efa_row5_col0\" class=\"data row5 col0\" >2.29%</td>\n",
                     "      <td id=\"T_20efa_row5_col1\" class=\"data row5 col1\" >9.15%</td>\n",
                     "      <td id=\"T_20efa_row5_col2\" class=\"data row5 col2\" >0.00%</td>\n",
                     "      <td id=\"T_20efa_row5_col3\" class=\"data row5 col3\" >50.88%</td>\n",
                     "      <td id=\"T_20efa_row5_col4\" class=\"data row5 col4\" >0.00%</td>\n",
                     "      <td id=\"T_20efa_row5_col5\" class=\"data row5 col5\" >9.15%</td>\n",
                     "      <td id=\"T_20efa_row5_col6\" class=\"data row5 col6\" >1.41%</td>\n",
                     "      <td id=\"T_20efa_row5_col7\" class=\"data row5 col7\" >11.80%</td>\n",
                     "      <td id=\"T_20efa_row5_col8\" class=\"data row5 col8\" >8.63%</td>\n",
                     "      <td id=\"T_20efa_row5_col9\" class=\"data row5 col9\" >6.69%</td>\n",
                     "    </tr>\n",
                     "    <tr>\n",
                     "      <th id=\"T_20efa_level0_row6\" class=\"row_heading level0 row6\" >HOSMED - STEP</th>\n",
                     "      <td id=\"T_20efa_row6_col0\" class=\"data row6 col0\" >0.00%</td>\n",
                     "      <td id=\"T_20efa_row6_col1\" class=\"data row6 col1\" >100.00%</td>\n",
                     "      <td id=\"T_20efa_row6_col2\" class=\"data row6 col2\" >0.00%</td>\n",
                     "      <td id=\"T_20efa_row6_col3\" class=\"data row6 col3\" >0.00%</td>\n",
                     "      <td id=\"T_20efa_row6_col4\" class=\"data row6 col4\" >0.00%</td>\n",
                     "      <td id=\"T_20efa_row6_col5\" class=\"data row6 col5\" >0.00%</td>\n",
                     "      <td id=\"T_20efa_row6_col6\" class=\"data row6 col6\" >0.00%</td>\n",
                     "      <td id=\"T_20efa_row6_col7\" class=\"data row6 col7\" >0.00%</td>\n",
                     "      <td id=\"T_20efa_row6_col8\" class=\"data row6 col8\" >0.00%</td>\n",
                     "      <td id=\"T_20efa_row6_col9\" class=\"data row6 col9\" >0.00%</td>\n",
                     "    </tr>\n",
                     "    <tr>\n",
                     "      <th id=\"T_20efa_level0_row7\" class=\"row_heading level0 row7\" >Platinum Enhanced</th>\n",
                     "      <td id=\"T_20efa_row7_col0\" class=\"data row7 col0\" >0.68%</td>\n",
                     "      <td id=\"T_20efa_row7_col1\" class=\"data row7 col1\" >17.85%</td>\n",
                     "      <td id=\"T_20efa_row7_col2\" class=\"data row7 col2\" >0.00%</td>\n",
                     "      <td id=\"T_20efa_row7_col3\" class=\"data row7 col3\" >3.10%</td>\n",
                     "      <td id=\"T_20efa_row7_col4\" class=\"data row7 col4\" >2.34%</td>\n",
                     "      <td id=\"T_20efa_row7_col5\" class=\"data row7 col5\" >18.68%</td>\n",
                     "      <td id=\"T_20efa_row7_col6\" class=\"data row7 col6\" >5.92%</td>\n",
                     "      <td id=\"T_20efa_row7_col7\" class=\"data row7 col7\" >12.72%</td>\n",
                     "      <td id=\"T_20efa_row7_col8\" class=\"data row7 col8\" >24.80%</td>\n",
                     "      <td id=\"T_20efa_row7_col9\" class=\"data row7 col9\" >13.91%</td>\n",
                     "    </tr>\n",
                     "    <tr>\n",
                     "      <th id=\"T_20efa_level0_row8\" class=\"row_heading level0 row8\" >Platinum Enhanced EDO</th>\n",
                     "      <td id=\"T_20efa_row8_col0\" class=\"data row8 col0\" >1.36%</td>\n",
                     "      <td id=\"T_20efa_row8_col1\" class=\"data row8 col1\" >4.42%</td>\n",
                     "      <td id=\"T_20efa_row8_col2\" class=\"data row8 col2\" >0.00%</td>\n",
                     "      <td id=\"T_20efa_row8_col3\" class=\"data row8 col3\" >9.18%</td>\n",
                     "      <td id=\"T_20efa_row8_col4\" class=\"data row8 col4\" >0.00%</td>\n",
                     "      <td id=\"T_20efa_row8_col5\" class=\"data row8 col5\" >62.24%</td>\n",
                     "      <td id=\"T_20efa_row8_col6\" class=\"data row8 col6\" >1.36%</td>\n",
                     "      <td id=\"T_20efa_row8_col7\" class=\"data row8 col7\" >5.10%</td>\n",
                     "      <td id=\"T_20efa_row8_col8\" class=\"data row8 col8\" >11.56%</td>\n",
                     "      <td id=\"T_20efa_row8_col9\" class=\"data row8 col9\" >4.76%</td>\n",
                     "    </tr>\n",
                     "    <tr>\n",
                     "      <th id=\"T_20efa_level0_row9\" class=\"row_heading level0 row9\" >Plus</th>\n",
                     "      <td id=\"T_20efa_row9_col0\" class=\"data row9 col0\" >0.00%</td>\n",
                     "      <td id=\"T_20efa_row9_col1\" class=\"data row9 col1\" >88.89%</td>\n",
                     "      <td id=\"T_20efa_row9_col2\" class=\"data row9 col2\" >0.00%</td>\n",
                     "      <td id=\"T_20efa_row9_col3\" class=\"data row9 col3\" >0.00%</td>\n",
                     "      <td id=\"T_20efa_row9_col4\" class=\"data row9 col4\" >0.00%</td>\n",
                     "      <td id=\"T_20efa_row9_col5\" class=\"data row9 col5\" >0.00%</td>\n",
                     "      <td id=\"T_20efa_row9_col6\" class=\"data row9 col6\" >0.00%</td>\n",
                     "      <td id=\"T_20efa_row9_col7\" class=\"data row9 col7\" >0.00%</td>\n",
                     "      <td id=\"T_20efa_row9_col8\" class=\"data row9 col8\" >0.00%</td>\n",
                     "      <td id=\"T_20efa_row9_col9\" class=\"data row9 col9\" >11.11%</td>\n",
                     "    </tr>\n",
                     "    <tr>\n",
                     "      <th id=\"T_20efa_level0_row10\" class=\"row_heading level0 row10\" >Primary Care</th>\n",
                     "      <td id=\"T_20efa_row10_col0\" class=\"data row10 col0\" >0.00%</td>\n",
                     "      <td id=\"T_20efa_row10_col1\" class=\"data row10 col1\" >100.00%</td>\n",
                     "      <td id=\"T_20efa_row10_col2\" class=\"data row10 col2\" >0.00%</td>\n",
                     "      <td id=\"T_20efa_row10_col3\" class=\"data row10 col3\" >0.00%</td>\n",
                     "      <td id=\"T_20efa_row10_col4\" class=\"data row10 col4\" >0.00%</td>\n",
                     "      <td id=\"T_20efa_row10_col5\" class=\"data row10 col5\" >0.00%</td>\n",
                     "      <td id=\"T_20efa_row10_col6\" class=\"data row10 col6\" >0.00%</td>\n",
                     "      <td id=\"T_20efa_row10_col7\" class=\"data row10 col7\" >0.00%</td>\n",
                     "      <td id=\"T_20efa_row10_col8\" class=\"data row10 col8\" >0.00%</td>\n",
                     "      <td id=\"T_20efa_row10_col9\" class=\"data row10 col9\" >0.00%</td>\n",
                     "    </tr>\n",
                     "    <tr>\n",
                     "      <th id=\"T_20efa_level0_row11\" class=\"row_heading level0 row11\" >STEP-MEDIUM</th>\n",
                     "      <td id=\"T_20efa_row11_col0\" class=\"data row11 col0\" >0.00%</td>\n",
                     "      <td id=\"T_20efa_row11_col1\" class=\"data row11 col1\" >100.00%</td>\n",
                     "      <td id=\"T_20efa_row11_col2\" class=\"data row11 col2\" >0.00%</td>\n",
                     "      <td id=\"T_20efa_row11_col3\" class=\"data row11 col3\" >0.00%</td>\n",
                     "      <td id=\"T_20efa_row11_col4\" class=\"data row11 col4\" >0.00%</td>\n",
                     "      <td id=\"T_20efa_row11_col5\" class=\"data row11 col5\" >0.00%</td>\n",
                     "      <td id=\"T_20efa_row11_col6\" class=\"data row11 col6\" >0.00%</td>\n",
                     "      <td id=\"T_20efa_row11_col7\" class=\"data row11 col7\" >0.00%</td>\n",
                     "      <td id=\"T_20efa_row11_col8\" class=\"data row11 col8\" >0.00%</td>\n",
                     "      <td id=\"T_20efa_row11_col9\" class=\"data row11 col9\" >0.00%</td>\n",
                     "    </tr>\n",
                     "    <tr>\n",
                     "      <th id=\"T_20efa_level0_row12\" class=\"row_heading level0 row12\" >Silver Saver</th>\n",
                     "      <td id=\"T_20efa_row12_col0\" class=\"data row12 col0\" >0.00%</td>\n",
                     "      <td id=\"T_20efa_row12_col1\" class=\"data row12 col1\" >6.01%</td>\n",
                     "      <td id=\"T_20efa_row12_col2\" class=\"data row12 col2\" >0.00%</td>\n",
                     "      <td id=\"T_20efa_row12_col3\" class=\"data row12 col3\" >2.19%</td>\n",
                     "      <td id=\"T_20efa_row12_col4\" class=\"data row12 col4\" >0.00%</td>\n",
                     "      <td id=\"T_20efa_row12_col5\" class=\"data row12 col5\" >0.00%</td>\n",
                     "      <td id=\"T_20efa_row12_col6\" class=\"data row12 col6\" >1.09%</td>\n",
                     "      <td id=\"T_20efa_row12_col7\" class=\"data row12 col7\" >84.70%</td>\n",
                     "      <td id=\"T_20efa_row12_col8\" class=\"data row12 col8\" >1.64%</td>\n",
                     "      <td id=\"T_20efa_row12_col9\" class=\"data row12 col9\" >4.37%</td>\n",
                     "    </tr>\n",
                     "    <tr>\n",
                     "      <th id=\"T_20efa_level0_row13\" class=\"row_heading level0 row13\" >Titanium Executive</th>\n",
                     "      <td id=\"T_20efa_row13_col0\" class=\"data row13 col0\" >0.20%</td>\n",
                     "      <td id=\"T_20efa_row13_col1\" class=\"data row13 col1\" >7.16%</td>\n",
                     "      <td id=\"T_20efa_row13_col2\" class=\"data row13 col2\" >0.00%</td>\n",
                     "      <td id=\"T_20efa_row13_col3\" class=\"data row13 col3\" >0.33%</td>\n",
                     "      <td id=\"T_20efa_row13_col4\" class=\"data row13 col4\" >0.33%</td>\n",
                     "      <td id=\"T_20efa_row13_col5\" class=\"data row13 col5\" >8.74%</td>\n",
                     "      <td id=\"T_20efa_row13_col6\" class=\"data row13 col6\" >10.97%</td>\n",
                     "      <td id=\"T_20efa_row13_col7\" class=\"data row13 col7\" >5.58%</td>\n",
                     "      <td id=\"T_20efa_row13_col8\" class=\"data row13 col8\" >59.86%</td>\n",
                     "      <td id=\"T_20efa_row13_col9\" class=\"data row13 col9\" >6.83%</td>\n",
                     "    </tr>\n",
                     "    <tr>\n",
                     "      <th id=\"T_20efa_level0_row14\" class=\"row_heading level0 row14\" >Value</th>\n",
                     "      <td id=\"T_20efa_row14_col0\" class=\"data row14 col0\" >0.00%</td>\n",
                     "      <td id=\"T_20efa_row14_col1\" class=\"data row14 col1\" >51.85%</td>\n",
                     "      <td id=\"T_20efa_row14_col2\" class=\"data row14 col2\" >0.00%</td>\n",
                     "      <td id=\"T_20efa_row14_col3\" class=\"data row14 col3\" >0.00%</td>\n",
                     "      <td id=\"T_20efa_row14_col4\" class=\"data row14 col4\" >0.00%</td>\n",
                     "      <td id=\"T_20efa_row14_col5\" class=\"data row14 col5\" >0.00%</td>\n",
                     "      <td id=\"T_20efa_row14_col6\" class=\"data row14 col6\" >0.00%</td>\n",
                     "      <td id=\"T_20efa_row14_col7\" class=\"data row14 col7\" >0.00%</td>\n",
                     "      <td id=\"T_20efa_row14_col8\" class=\"data row14 col8\" >0.00%</td>\n",
                     "      <td id=\"T_20efa_row14_col9\" class=\"data row14 col9\" >48.15%</td>\n",
                     "    </tr>\n",
                     "    <tr>\n",
                     "      <th id=\"T_20efa_level0_row15\" class=\"row_heading level0 row15\" >Value Core</th>\n",
                     "      <td id=\"T_20efa_row15_col0\" class=\"data row15 col0\" >0.00%</td>\n",
                     "      <td id=\"T_20efa_row15_col1\" class=\"data row15 col1\" >100.00%</td>\n",
                     "      <td id=\"T_20efa_row15_col2\" class=\"data row15 col2\" >0.00%</td>\n",
                     "      <td id=\"T_20efa_row15_col3\" class=\"data row15 col3\" >0.00%</td>\n",
                     "      <td id=\"T_20efa_row15_col4\" class=\"data row15 col4\" >0.00%</td>\n",
                     "      <td id=\"T_20efa_row15_col5\" class=\"data row15 col5\" >0.00%</td>\n",
                     "      <td id=\"T_20efa_row15_col6\" class=\"data row15 col6\" >0.00%</td>\n",
                     "      <td id=\"T_20efa_row15_col7\" class=\"data row15 col7\" >0.00%</td>\n",
                     "      <td id=\"T_20efa_row15_col8\" class=\"data row15 col8\" >0.00%</td>\n",
                     "      <td id=\"T_20efa_row15_col9\" class=\"data row15 col9\" >0.00%</td>\n",
                     "    </tr>\n",
                     "  </tbody>\n",
                     "</table>\n"
                  ],
                  "text/plain": [
                     "<pandas.io.formats.style.Styler at 0x1bc16de9e20>"
                  ]
               },
               "execution_count": 21,
               "metadata": {},
               "output_type": "execute_result"
            }
         ],
         "source": [
            "right_option_dataframe.style\\\n",
            "    .format('{:,.2%}'.format)\\\n",
            "    .background_gradient(cmap = 'Blues', low=0, high=1)"
         ]
      },
      {
         "cell_type": "code",
         "execution_count": null,
         "metadata": {},
         "outputs": [],
         "source": [
            "right_option_summary = smartleads.score.get_right_option_summary(\n",
            "    client,\n",
            "    top_products_table\n",
            ")"
         ]
      },
      {
         "cell_type": "code",
         "execution_count": null,
         "metadata": {},
         "outputs": [],
         "source": [
            "right_option_summary"
         ]
      },
      {
         "cell_type": "code",
         "execution_count": null,
         "metadata": {},
         "outputs": [],
         "source": [
            "right_option_summary/number_of_scored_customers"
         ]
      },
      {
         "cell_type": "code",
         "execution_count": null,
         "metadata": {},
         "outputs": [],
         "source": [
            "sql = smartleads.score.get_top_products_wide(top_products_table, top_products_wide_table, MAX_OPTIONS_PER_CUSTOMER)\n",
            "smartleads.util.bq.execute_and_wait(client, sql)"
         ]
      },
      {
         "cell_type": "code",
         "execution_count": null,
         "metadata": {},
         "outputs": [],
         "source": [
            "product = 'T:Platinum Enhanced Plan'\n",
            "num_customers = 100\n",
            "customers_for_product_df = smartleads.score.get_product_recommendation_dataframe(\n",
            "    client,\n",
            "    product,\n",
            "    num_customers,\n",
            "    top_products_table,\n",
            ")"
         ]
      },
      {
         "cell_type": "code",
         "execution_count": null,
         "metadata": {},
         "outputs": [],
         "source": [
            "for rule in customers_for_product_df['rule_feature_array'].head(3).tolist():\n",
            "    print('-------')\n",
            "    for r in rule:\n",
            "        print(r)"
         ]
      }
   ],
   "metadata": {
      "kernelspec": {
         "display_name": "Python 3.8.5 ('env': venv)",
         "language": "python",
         "name": "python3"
      },
      "language_info": {
         "codemirror_mode": {
            "name": "ipython",
            "version": 3
         },
         "file_extension": ".py",
         "mimetype": "text/x-python",
         "name": "python",
         "nbconvert_exporter": "python",
         "pygments_lexer": "ipython3",
         "version": "3.8.17"
      },
      "orig_nbformat": 4,
      "vscode": {
         "interpreter": {
            "hash": "21e849e3579a5ec318e2617af67fc6cca2a3fa2daf82f00d46037ae34217fcf3"
         }
      }
   },
   "nbformat": 4,
   "nbformat_minor": 4
}
