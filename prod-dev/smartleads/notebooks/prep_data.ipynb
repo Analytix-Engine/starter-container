{
 "cells": [
  {
   "cell_type": "code",
   "execution_count": 1,
   "metadata": {},
   "outputs": [],
   "source": [
    "import pandas as pd\n",
    "import numpy as np"
   ]
  },
  {
   "cell_type": "code",
   "execution_count": 2,
   "metadata": {},
   "outputs": [],
   "source": [
    "PATH = \"/Users/fcdevos/yabuk-segment-V 0.3.0.xlsx\""
   ]
  },
  {
   "cell_type": "markdown",
   "metadata": {},
   "source": [
    "# Raw Data"
   ]
  },
  {
   "cell_type": "code",
   "execution_count": 3,
   "metadata": {},
   "outputs": [
    {
     "data": {
      "text/html": [
       "<div>\n",
       "<style scoped>\n",
       "    .dataframe tbody tr th:only-of-type {\n",
       "        vertical-align: middle;\n",
       "    }\n",
       "\n",
       "    .dataframe tbody tr th {\n",
       "        vertical-align: top;\n",
       "    }\n",
       "\n",
       "    .dataframe thead th {\n",
       "        text-align: right;\n",
       "    }\n",
       "</style>\n",
       "<table border=\"1\" class=\"dataframe\">\n",
       "  <thead>\n",
       "    <tr style=\"text-align: right;\">\n",
       "      <th></th>\n",
       "      <th>Customer ID</th>\n",
       "      <th>Grade</th>\n",
       "      <th>Sub Grade</th>\n",
       "      <th>Employment Length</th>\n",
       "      <th>Home Ownership</th>\n",
       "      <th>Annual Income</th>\n",
       "      <th>Loan Status</th>\n",
       "      <th>Payment Plan</th>\n",
       "      <th>Has Product ~ Car</th>\n",
       "      <th>Has Competitor Product ~ Car</th>\n",
       "      <th>...</th>\n",
       "      <th>Balance - sum</th>\n",
       "      <th>Months on Book - min</th>\n",
       "      <th>Months on Book - mean</th>\n",
       "      <th>Months on Book - max</th>\n",
       "      <th>Remaining Term - min</th>\n",
       "      <th>Remaining Term - mean</th>\n",
       "      <th>Remaining Term - max</th>\n",
       "      <th>Value ~ Past Value</th>\n",
       "      <th>Value ~ Future Value</th>\n",
       "      <th>Value ~ Customer Lifetime Value</th>\n",
       "    </tr>\n",
       "  </thead>\n",
       "  <tbody>\n",
       "    <tr>\n",
       "      <th>0</th>\n",
       "      <td>1</td>\n",
       "      <td>A</td>\n",
       "      <td>A1</td>\n",
       "      <td>1.0</td>\n",
       "      <td>MORTGAGE</td>\n",
       "      <td>34000.0</td>\n",
       "      <td>Fully Paid</td>\n",
       "      <td>n</td>\n",
       "      <td>False</td>\n",
       "      <td>False</td>\n",
       "      <td>...</td>\n",
       "      <td>0.0</td>\n",
       "      <td>4</td>\n",
       "      <td>5.500000</td>\n",
       "      <td>7</td>\n",
       "      <td>29</td>\n",
       "      <td>30.500000</td>\n",
       "      <td>32</td>\n",
       "      <td>3317.473026</td>\n",
       "      <td>17187.410619</td>\n",
       "      <td>20504.883645</td>\n",
       "    </tr>\n",
       "    <tr>\n",
       "      <th>1</th>\n",
       "      <td>2</td>\n",
       "      <td>A</td>\n",
       "      <td>A1</td>\n",
       "      <td>1.0</td>\n",
       "      <td>MORTGAGE</td>\n",
       "      <td>36000.0</td>\n",
       "      <td>Fully Paid</td>\n",
       "      <td>n</td>\n",
       "      <td>False</td>\n",
       "      <td>False</td>\n",
       "      <td>...</td>\n",
       "      <td>0.0</td>\n",
       "      <td>5</td>\n",
       "      <td>6.333333</td>\n",
       "      <td>9</td>\n",
       "      <td>27</td>\n",
       "      <td>29.666667</td>\n",
       "      <td>31</td>\n",
       "      <td>2800.068976</td>\n",
       "      <td>15759.501569</td>\n",
       "      <td>18559.570545</td>\n",
       "    </tr>\n",
       "    <tr>\n",
       "      <th>2</th>\n",
       "      <td>3</td>\n",
       "      <td>A</td>\n",
       "      <td>A1</td>\n",
       "      <td>1.0</td>\n",
       "      <td>MORTGAGE</td>\n",
       "      <td>42000.0</td>\n",
       "      <td>Charged Off</td>\n",
       "      <td>n</td>\n",
       "      <td>False</td>\n",
       "      <td>False</td>\n",
       "      <td>...</td>\n",
       "      <td>10963.6</td>\n",
       "      <td>3</td>\n",
       "      <td>5.000000</td>\n",
       "      <td>8</td>\n",
       "      <td>28</td>\n",
       "      <td>31.000000</td>\n",
       "      <td>33</td>\n",
       "      <td>-5631.294732</td>\n",
       "      <td>20788.430888</td>\n",
       "      <td>15157.136156</td>\n",
       "    </tr>\n",
       "  </tbody>\n",
       "</table>\n",
       "<p>3 rows × 77 columns</p>\n",
       "</div>"
      ],
      "text/plain": [
       "   Customer ID Grade Sub Grade  Employment Length Home Ownership  \\\n",
       "0            1     A        A1                1.0       MORTGAGE   \n",
       "1            2     A        A1                1.0       MORTGAGE   \n",
       "2            3     A        A1                1.0       MORTGAGE   \n",
       "\n",
       "   Annual Income  Loan Status Payment Plan  Has Product ~ Car  \\\n",
       "0        34000.0   Fully Paid            n              False   \n",
       "1        36000.0   Fully Paid            n              False   \n",
       "2        42000.0  Charged Off            n              False   \n",
       "\n",
       "   Has Competitor Product ~ Car  ...  Balance - sum  Months on Book - min  \\\n",
       "0                         False  ...            0.0                     4   \n",
       "1                         False  ...            0.0                     5   \n",
       "2                         False  ...        10963.6                     3   \n",
       "\n",
       "   Months on Book - mean  Months on Book - max  Remaining Term - min  \\\n",
       "0               5.500000                     7                    29   \n",
       "1               6.333333                     9                    27   \n",
       "2               5.000000                     8                    28   \n",
       "\n",
       "   Remaining Term - mean  Remaining Term - max  Value ~ Past Value  \\\n",
       "0              30.500000                    32         3317.473026   \n",
       "1              29.666667                    31         2800.068976   \n",
       "2              31.000000                    33        -5631.294732   \n",
       "\n",
       "   Value ~ Future Value  Value ~ Customer Lifetime Value  \n",
       "0          17187.410619                     20504.883645  \n",
       "1          15759.501569                     18559.570545  \n",
       "2          20788.430888                     15157.136156  \n",
       "\n",
       "[3 rows x 77 columns]"
      ]
     },
     "execution_count": 3,
     "metadata": {},
     "output_type": "execute_result"
    }
   ],
   "source": [
    "raw = pd.read_excel(PATH)\n",
    "raw.head(3)"
   ]
  },
  {
   "cell_type": "markdown",
   "metadata": {},
   "source": [
    "# Product Data"
   ]
  },
  {
   "cell_type": "code",
   "execution_count": 5,
   "metadata": {},
   "outputs": [],
   "source": [
    "# Get a list of the products\n",
    "products = [c.replace(\"Has Product ~ \",\"\") for c in raw.columns if c.startswith(\"Has Product ~ \")]"
   ]
  },
  {
   "cell_type": "code",
   "execution_count": 6,
   "metadata": {},
   "outputs": [],
   "source": [
    "# Loop through products so we convert this from wide to long\n",
    "dfs = []\n",
    "for product in products[:4]:\n",
    "    df = raw.loc[:, [\"Customer ID\", \"Has Product ~ {}\".format(product), 'Value ~ Customer Lifetime Value']].copy()\n",
    "    df = df[df['Has Product ~ {}'.format(product)] == True].copy()\n",
    "    df['Product'] = product\n",
    "    df = df.drop(columns=['Has Product ~ {}'.format(product)])\n",
    "    dfs.append(df)\n",
    "df = pd.concat(dfs)\n",
    "df.columns = ['Customer ID', 'Value', 'Product']\n",
    "# Randomly make the Take up true of false\n",
    "# Generate a column of random trues and falses\n",
    "df['Take Up'] = np.random.choice([True, False], size=len(df))\n",
    "df = df[['Customer ID', 'Product', 'Take Up', 'Value']]\n",
    "df.to_csv(\"../data/01_raw/product_data.csv\", index=False)"
   ]
  },
  {
   "cell_type": "code",
   "execution_count": 8,
   "metadata": {},
   "outputs": [
    {
     "data": {
      "text/plain": [
       "Product\n",
       "Debt Consolidation    14394\n",
       "Credit Card            7455\n",
       "Home Improvement       2234\n",
       "Car                     618\n",
       "Name: count, dtype: int64"
      ]
     },
     "execution_count": 8,
     "metadata": {},
     "output_type": "execute_result"
    }
   ],
   "source": [
    "df['Product'].value_counts()"
   ]
  },
  {
   "cell_type": "markdown",
   "metadata": {},
   "source": [
    "# Customer Data"
   ]
  },
  {
   "cell_type": "code",
   "execution_count": 11,
   "metadata": {},
   "outputs": [
    {
     "data": {
      "text/html": [
       "<div>\n",
       "<style scoped>\n",
       "    .dataframe tbody tr th:only-of-type {\n",
       "        vertical-align: middle;\n",
       "    }\n",
       "\n",
       "    .dataframe tbody tr th {\n",
       "        vertical-align: top;\n",
       "    }\n",
       "\n",
       "    .dataframe thead th {\n",
       "        text-align: right;\n",
       "    }\n",
       "</style>\n",
       "<table border=\"1\" class=\"dataframe\">\n",
       "  <thead>\n",
       "    <tr style=\"text-align: right;\">\n",
       "      <th></th>\n",
       "      <th>Customer ID</th>\n",
       "      <th>Grade</th>\n",
       "      <th>Sub Grade</th>\n",
       "      <th>Employment Length</th>\n",
       "      <th>Home Ownership</th>\n",
       "      <th>Annual Income</th>\n",
       "      <th>Loan Status</th>\n",
       "      <th>Payment Plan</th>\n",
       "    </tr>\n",
       "  </thead>\n",
       "  <tbody>\n",
       "    <tr>\n",
       "      <th>0</th>\n",
       "      <td>1</td>\n",
       "      <td>A</td>\n",
       "      <td>A1</td>\n",
       "      <td>1.0</td>\n",
       "      <td>MORTGAGE</td>\n",
       "      <td>34000.0</td>\n",
       "      <td>Fully Paid</td>\n",
       "      <td>n</td>\n",
       "    </tr>\n",
       "    <tr>\n",
       "      <th>1</th>\n",
       "      <td>2</td>\n",
       "      <td>A</td>\n",
       "      <td>A1</td>\n",
       "      <td>1.0</td>\n",
       "      <td>MORTGAGE</td>\n",
       "      <td>36000.0</td>\n",
       "      <td>Fully Paid</td>\n",
       "      <td>n</td>\n",
       "    </tr>\n",
       "    <tr>\n",
       "      <th>2</th>\n",
       "      <td>3</td>\n",
       "      <td>A</td>\n",
       "      <td>A1</td>\n",
       "      <td>1.0</td>\n",
       "      <td>MORTGAGE</td>\n",
       "      <td>42000.0</td>\n",
       "      <td>Charged Off</td>\n",
       "      <td>n</td>\n",
       "    </tr>\n",
       "  </tbody>\n",
       "</table>\n",
       "</div>"
      ],
      "text/plain": [
       "   Customer ID Grade Sub Grade  Employment Length Home Ownership  \\\n",
       "0            1     A        A1                1.0       MORTGAGE   \n",
       "1            2     A        A1                1.0       MORTGAGE   \n",
       "2            3     A        A1                1.0       MORTGAGE   \n",
       "\n",
       "   Annual Income  Loan Status Payment Plan  \n",
       "0        34000.0   Fully Paid            n  \n",
       "1        36000.0   Fully Paid            n  \n",
       "2        42000.0  Charged Off            n  "
      ]
     },
     "execution_count": 11,
     "metadata": {},
     "output_type": "execute_result"
    }
   ],
   "source": [
    "m = raw[[\"Has Product ~ {}\".format(p) for p in products]].sum(axis=1) > 0\n",
    "customer_data = raw.loc[:, \"Customer ID\":\"Payment Plan\"].copy()\n",
    "customer_data = customer_data[m].copy()\n",
    "customer_data.to_csv(\"../data/01_raw/customer_data.csv\", index=False)\n",
    "customer_data.head(3)"
   ]
  },
  {
   "cell_type": "code",
   "execution_count": null,
   "metadata": {},
   "outputs": [],
   "source": []
  },
  {
   "cell_type": "code",
   "execution_count": null,
   "metadata": {},
   "outputs": [],
   "source": []
  },
  {
   "cell_type": "code",
   "execution_count": null,
   "metadata": {},
   "outputs": [],
   "source": []
  },
  {
   "cell_type": "code",
   "execution_count": null,
   "metadata": {},
   "outputs": [],
   "source": []
  },
  {
   "cell_type": "code",
   "execution_count": null,
   "metadata": {},
   "outputs": [],
   "source": []
  }
 ],
 "metadata": {
  "kernelspec": {
   "display_name": "SmartLeads",
   "language": "python",
   "name": "python3"
  },
  "language_info": {
   "codemirror_mode": {
    "name": "ipython",
    "version": 3
   },
   "file_extension": ".py",
   "mimetype": "text/x-python",
   "name": "python",
   "nbconvert_exporter": "python",
   "pygments_lexer": "ipython3",
   "version": "3.8.17"
  },
  "orig_nbformat": 4
 },
 "nbformat": 4,
 "nbformat_minor": 2
}
